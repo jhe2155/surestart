{
  "nbformat": 4,
  "nbformat_minor": 0,
  "metadata": {
    "colab": {
      "name": "HousePrices.ipynb",
      "provenance": []
    },
    "kernelspec": {
      "name": "python3",
      "display_name": "Python 3"
    }
  },
  "cells": [
    {
      "cell_type": "code",
      "metadata": {
        "colab": {
          "resources": {
            "http://localhost:8080/nbextensions/google.colab/files.js": {
              "data": "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",
              "ok": true,
              "headers": [
                [
                  "content-type",
                  "application/javascript"
                ]
              ],
              "status": 200,
              "status_text": ""
            }
          },
          "base_uri": "https://localhost:8080/",
          "height": 72
        },
        "id": "kroxwZVF3As2",
        "outputId": "a4af6329-3d72-4ede-de51-bad76349f825"
      },
      "source": [
        "from google.colab import files\n",
        "uploaded = files.upload()"
      ],
      "execution_count": null,
      "outputs": [
        {
          "output_type": "display_data",
          "data": {
            "text/html": [
              "\n",
              "     <input type=\"file\" id=\"files-bb979149-3c20-4b27-8b45-2da259598325\" name=\"files[]\" multiple disabled\n",
              "        style=\"border:none\" />\n",
              "     <output id=\"result-bb979149-3c20-4b27-8b45-2da259598325\">\n",
              "      Upload widget is only available when the cell has been executed in the\n",
              "      current browser session. Please rerun this cell to enable.\n",
              "      </output>\n",
              "      <script src=\"/nbextensions/google.colab/files.js\"></script> "
            ],
            "text/plain": [
              "<IPython.core.display.HTML object>"
            ]
          },
          "metadata": {
            "tags": []
          }
        },
        {
          "output_type": "stream",
          "text": [
            "Saving housepricedata.csv to housepricedata.csv\n"
          ],
          "name": "stdout"
        }
      ]
    },
    {
      "cell_type": "code",
      "metadata": {
        "colab": {
          "base_uri": "https://localhost:8080/",
          "height": 204
        },
        "id": "KRrpxN0d31CT",
        "outputId": "93dd9727-5cf4-420d-a9f2-ad1c81059b63"
      },
      "source": [
        "import pandas as pd \n",
        "data = pd.read_csv(\"housepricedata.csv\") #load into dataframe\n",
        "data.head() #check out top of dataframe"
      ],
      "execution_count": null,
      "outputs": [
        {
          "output_type": "execute_result",
          "data": {
            "text/html": [
              "<div>\n",
              "<style scoped>\n",
              "    .dataframe tbody tr th:only-of-type {\n",
              "        vertical-align: middle;\n",
              "    }\n",
              "\n",
              "    .dataframe tbody tr th {\n",
              "        vertical-align: top;\n",
              "    }\n",
              "\n",
              "    .dataframe thead th {\n",
              "        text-align: right;\n",
              "    }\n",
              "</style>\n",
              "<table border=\"1\" class=\"dataframe\">\n",
              "  <thead>\n",
              "    <tr style=\"text-align: right;\">\n",
              "      <th></th>\n",
              "      <th>LotArea</th>\n",
              "      <th>OverallQual</th>\n",
              "      <th>OverallCond</th>\n",
              "      <th>TotalBsmtSF</th>\n",
              "      <th>FullBath</th>\n",
              "      <th>HalfBath</th>\n",
              "      <th>BedroomAbvGr</th>\n",
              "      <th>TotRmsAbvGrd</th>\n",
              "      <th>Fireplaces</th>\n",
              "      <th>GarageArea</th>\n",
              "      <th>AboveMedianPrice</th>\n",
              "    </tr>\n",
              "  </thead>\n",
              "  <tbody>\n",
              "    <tr>\n",
              "      <th>0</th>\n",
              "      <td>8450</td>\n",
              "      <td>7</td>\n",
              "      <td>5</td>\n",
              "      <td>856</td>\n",
              "      <td>2</td>\n",
              "      <td>1</td>\n",
              "      <td>3</td>\n",
              "      <td>8</td>\n",
              "      <td>0</td>\n",
              "      <td>548</td>\n",
              "      <td>1</td>\n",
              "    </tr>\n",
              "    <tr>\n",
              "      <th>1</th>\n",
              "      <td>9600</td>\n",
              "      <td>6</td>\n",
              "      <td>8</td>\n",
              "      <td>1262</td>\n",
              "      <td>2</td>\n",
              "      <td>0</td>\n",
              "      <td>3</td>\n",
              "      <td>6</td>\n",
              "      <td>1</td>\n",
              "      <td>460</td>\n",
              "      <td>1</td>\n",
              "    </tr>\n",
              "    <tr>\n",
              "      <th>2</th>\n",
              "      <td>11250</td>\n",
              "      <td>7</td>\n",
              "      <td>5</td>\n",
              "      <td>920</td>\n",
              "      <td>2</td>\n",
              "      <td>1</td>\n",
              "      <td>3</td>\n",
              "      <td>6</td>\n",
              "      <td>1</td>\n",
              "      <td>608</td>\n",
              "      <td>1</td>\n",
              "    </tr>\n",
              "    <tr>\n",
              "      <th>3</th>\n",
              "      <td>9550</td>\n",
              "      <td>7</td>\n",
              "      <td>5</td>\n",
              "      <td>756</td>\n",
              "      <td>1</td>\n",
              "      <td>0</td>\n",
              "      <td>3</td>\n",
              "      <td>7</td>\n",
              "      <td>1</td>\n",
              "      <td>642</td>\n",
              "      <td>0</td>\n",
              "    </tr>\n",
              "    <tr>\n",
              "      <th>4</th>\n",
              "      <td>14260</td>\n",
              "      <td>8</td>\n",
              "      <td>5</td>\n",
              "      <td>1145</td>\n",
              "      <td>2</td>\n",
              "      <td>1</td>\n",
              "      <td>4</td>\n",
              "      <td>9</td>\n",
              "      <td>1</td>\n",
              "      <td>836</td>\n",
              "      <td>1</td>\n",
              "    </tr>\n",
              "  </tbody>\n",
              "</table>\n",
              "</div>"
            ],
            "text/plain": [
              "   LotArea  OverallQual  OverallCond  ...  Fireplaces  GarageArea  AboveMedianPrice\n",
              "0     8450            7            5  ...           0         548                 1\n",
              "1     9600            6            8  ...           1         460                 1\n",
              "2    11250            7            5  ...           1         608                 1\n",
              "3     9550            7            5  ...           1         642                 0\n",
              "4    14260            8            5  ...           1         836                 1\n",
              "\n",
              "[5 rows x 11 columns]"
            ]
          },
          "metadata": {
            "tags": []
          },
          "execution_count": 10
        }
      ]
    },
    {
      "cell_type": "code",
      "metadata": {
        "colab": {
          "base_uri": "https://localhost:8080/"
        },
        "id": "sAQGdoBL4Nk6",
        "outputId": "f20f0327-96eb-4b11-b596-91cbf5955aa8"
      },
      "source": [
        "arr = data.values #turn into array\n",
        "\n",
        "xvalues = arr[:,0:10]\n",
        "yvalues = arr[:,10]\n",
        "\n",
        "print(xvalues)"
      ],
      "execution_count": null,
      "outputs": [
        {
          "output_type": "stream",
          "text": [
            "[[ 8450     7     5 ...     8     0   548]\n",
            " [ 9600     6     8 ...     6     1   460]\n",
            " [11250     7     5 ...     6     1   608]\n",
            " ...\n",
            " [ 9042     7     9 ...     9     2   252]\n",
            " [ 9717     5     6 ...     5     0   240]\n",
            " [ 9937     5     6 ...     6     0   276]]\n"
          ],
          "name": "stdout"
        }
      ]
    },
    {
      "cell_type": "code",
      "metadata": {
        "colab": {
          "base_uri": "https://localhost:8080/"
        },
        "id": "YOaOPWmz5Czz",
        "outputId": "6b4a9f70-3077-4085-8a81-0010e2628fae"
      },
      "source": [
        "print(yvalues)"
      ],
      "execution_count": null,
      "outputs": [
        {
          "output_type": "stream",
          "text": [
            "[1 1 1 ... 1 0 0]\n"
          ],
          "name": "stdout"
        }
      ]
    },
    {
      "cell_type": "code",
      "metadata": {
        "colab": {
          "base_uri": "https://localhost:8080/"
        },
        "id": "Z0q8sKCH5ldN",
        "outputId": "143b7af7-d8e3-4db2-eadd-03dfe1a5e1bd"
      },
      "source": [
        "from sklearn import preprocessing\n",
        "\n",
        "min_max_scaler = preprocessing.MinMaxScaler()\n",
        "xvalues_scale = min_max_scaler.fit_transform(xvalues)\n",
        "\n",
        "xvalues_scale"
      ],
      "execution_count": null,
      "outputs": [
        {
          "output_type": "execute_result",
          "data": {
            "text/plain": [
              "array([[0.0334198 , 0.66666667, 0.5       , ..., 0.5       , 0.        ,\n",
              "        0.3864598 ],\n",
              "       [0.03879502, 0.55555556, 0.875     , ..., 0.33333333, 0.33333333,\n",
              "        0.32440056],\n",
              "       [0.04650728, 0.66666667, 0.5       , ..., 0.33333333, 0.33333333,\n",
              "        0.42877292],\n",
              "       ...,\n",
              "       [0.03618687, 0.66666667, 1.        , ..., 0.58333333, 0.66666667,\n",
              "        0.17771509],\n",
              "       [0.03934189, 0.44444444, 0.625     , ..., 0.25      , 0.        ,\n",
              "        0.16925247],\n",
              "       [0.04037019, 0.44444444, 0.625     , ..., 0.33333333, 0.        ,\n",
              "        0.19464034]])"
            ]
          },
          "metadata": {
            "tags": []
          },
          "execution_count": 14
        }
      ]
    },
    {
      "cell_type": "code",
      "metadata": {
        "id": "tKGO8fJx5NR9"
      },
      "source": [
        "from sklearn.model_selection import train_test_split\n",
        "#splits data into train and (val and test) then splits val and tests apart\n",
        "xvalues_train, xvalues_val_and_test, yvalues_train, yvalues_val_and_test = train_test_split(xvalues_scale, yvalues, test_size=0.3)\n",
        "xvalues_val, xvalues_test, yvalues_val, yvalues_test = train_test_split(xvalues_val_and_test, yvalues_val_and_test, test_size=0.5)"
      ],
      "execution_count": null,
      "outputs": []
    },
    {
      "cell_type": "code",
      "metadata": {
        "id": "mbuf856g49mx"
      },
      "source": [
        "\n",
        "from keras.models import Sequential\n",
        "from keras.layers import Dense"
      ],
      "execution_count": null,
      "outputs": []
    },
    {
      "cell_type": "code",
      "metadata": {
        "id": "pyXwWf6w6bQr"
      },
      "source": [
        "model = Sequential([\n",
        "    Dense(32, activation='relu', input_shape=(10,)),\n",
        "    Dense(32, activation='relu'),\n",
        "    Dense(1, activation='sigmoid'),\n",
        "])"
      ],
      "execution_count": null,
      "outputs": []
    },
    {
      "cell_type": "code",
      "metadata": {
        "id": "K-ePh0Ty6qAo"
      },
      "source": [
        "model.compile(optimizer='sgd',\n",
        "              loss='mean_squared_error',\n",
        "              metrics=['accuracy'])"
      ],
      "execution_count": 40,
      "outputs": []
    },
    {
      "cell_type": "code",
      "metadata": {
        "colab": {
          "base_uri": "https://localhost:8080/"
        },
        "id": "CAX0zeZF7BI7",
        "outputId": "11f9bac6-2aa5-4a4f-9dd6-3e7a1b3fee7f"
      },
      "source": [
        "hist = model.fit(xvalues_train, yvalues_train,\n",
        "          batch_size=32, epochs=100,\n",
        "          validation_data=(xvalues_val, yvalues_val))"
      ],
      "execution_count": 41,
      "outputs": [
        {
          "output_type": "stream",
          "text": [
            "Epoch 1/100\n",
            "32/32 [==============================] - 1s 7ms/step - loss: 0.0826 - accuracy: 0.8931 - val_loss: 0.0827 - val_accuracy: 0.8676\n",
            "Epoch 2/100\n",
            "32/32 [==============================] - 0s 2ms/step - loss: 0.0844 - accuracy: 0.8960 - val_loss: 0.0826 - val_accuracy: 0.8676\n",
            "Epoch 3/100\n",
            "32/32 [==============================] - 0s 2ms/step - loss: 0.0730 - accuracy: 0.9144 - val_loss: 0.0825 - val_accuracy: 0.8676\n",
            "Epoch 4/100\n",
            "32/32 [==============================] - 0s 3ms/step - loss: 0.0751 - accuracy: 0.9073 - val_loss: 0.0825 - val_accuracy: 0.8676\n",
            "Epoch 5/100\n",
            "32/32 [==============================] - 0s 2ms/step - loss: 0.0782 - accuracy: 0.8968 - val_loss: 0.0827 - val_accuracy: 0.8676\n",
            "Epoch 6/100\n",
            "32/32 [==============================] - 0s 2ms/step - loss: 0.0810 - accuracy: 0.8947 - val_loss: 0.0825 - val_accuracy: 0.8676\n",
            "Epoch 7/100\n",
            "32/32 [==============================] - 0s 3ms/step - loss: 0.0811 - accuracy: 0.9035 - val_loss: 0.0824 - val_accuracy: 0.8676\n",
            "Epoch 8/100\n",
            "32/32 [==============================] - 0s 2ms/step - loss: 0.0826 - accuracy: 0.8954 - val_loss: 0.0822 - val_accuracy: 0.8676\n",
            "Epoch 9/100\n",
            "32/32 [==============================] - 0s 2ms/step - loss: 0.0801 - accuracy: 0.9019 - val_loss: 0.0821 - val_accuracy: 0.8676\n",
            "Epoch 10/100\n",
            "32/32 [==============================] - 0s 3ms/step - loss: 0.0816 - accuracy: 0.8930 - val_loss: 0.0822 - val_accuracy: 0.8676\n",
            "Epoch 11/100\n",
            "32/32 [==============================] - 0s 3ms/step - loss: 0.0793 - accuracy: 0.9031 - val_loss: 0.0820 - val_accuracy: 0.8676\n",
            "Epoch 12/100\n",
            "32/32 [==============================] - 0s 3ms/step - loss: 0.0857 - accuracy: 0.8962 - val_loss: 0.0820 - val_accuracy: 0.8676\n",
            "Epoch 13/100\n",
            "32/32 [==============================] - 0s 2ms/step - loss: 0.0827 - accuracy: 0.8969 - val_loss: 0.0819 - val_accuracy: 0.8676\n",
            "Epoch 14/100\n",
            "32/32 [==============================] - 0s 3ms/step - loss: 0.0744 - accuracy: 0.9062 - val_loss: 0.0819 - val_accuracy: 0.8676\n",
            "Epoch 15/100\n",
            "32/32 [==============================] - 0s 3ms/step - loss: 0.0846 - accuracy: 0.8968 - val_loss: 0.0818 - val_accuracy: 0.8676\n",
            "Epoch 16/100\n",
            "32/32 [==============================] - 0s 2ms/step - loss: 0.0797 - accuracy: 0.9024 - val_loss: 0.0817 - val_accuracy: 0.8676\n",
            "Epoch 17/100\n",
            "32/32 [==============================] - 0s 2ms/step - loss: 0.0781 - accuracy: 0.9079 - val_loss: 0.0816 - val_accuracy: 0.8676\n",
            "Epoch 18/100\n",
            "32/32 [==============================] - 0s 3ms/step - loss: 0.0823 - accuracy: 0.8958 - val_loss: 0.0817 - val_accuracy: 0.8676\n",
            "Epoch 19/100\n",
            "32/32 [==============================] - 0s 3ms/step - loss: 0.0773 - accuracy: 0.8974 - val_loss: 0.0817 - val_accuracy: 0.8676\n",
            "Epoch 20/100\n",
            "32/32 [==============================] - 0s 2ms/step - loss: 0.0755 - accuracy: 0.9098 - val_loss: 0.0816 - val_accuracy: 0.8676\n",
            "Epoch 21/100\n",
            "32/32 [==============================] - 0s 2ms/step - loss: 0.0810 - accuracy: 0.8979 - val_loss: 0.0815 - val_accuracy: 0.8676\n",
            "Epoch 22/100\n",
            "32/32 [==============================] - 0s 3ms/step - loss: 0.0765 - accuracy: 0.9088 - val_loss: 0.0816 - val_accuracy: 0.8676\n",
            "Epoch 23/100\n",
            "32/32 [==============================] - 0s 3ms/step - loss: 0.0823 - accuracy: 0.8936 - val_loss: 0.0814 - val_accuracy: 0.8676\n",
            "Epoch 24/100\n",
            "32/32 [==============================] - 0s 2ms/step - loss: 0.0775 - accuracy: 0.9053 - val_loss: 0.0814 - val_accuracy: 0.8676\n",
            "Epoch 25/100\n",
            "32/32 [==============================] - 0s 2ms/step - loss: 0.0776 - accuracy: 0.9025 - val_loss: 0.0813 - val_accuracy: 0.8676\n",
            "Epoch 26/100\n",
            "32/32 [==============================] - 0s 2ms/step - loss: 0.0821 - accuracy: 0.8972 - val_loss: 0.0812 - val_accuracy: 0.8676\n",
            "Epoch 27/100\n",
            "32/32 [==============================] - 0s 2ms/step - loss: 0.0902 - accuracy: 0.8811 - val_loss: 0.0812 - val_accuracy: 0.8676\n",
            "Epoch 28/100\n",
            "32/32 [==============================] - 0s 3ms/step - loss: 0.0771 - accuracy: 0.9030 - val_loss: 0.0812 - val_accuracy: 0.8676\n",
            "Epoch 29/100\n",
            "32/32 [==============================] - 0s 3ms/step - loss: 0.0892 - accuracy: 0.8839 - val_loss: 0.0811 - val_accuracy: 0.8676\n",
            "Epoch 30/100\n",
            "32/32 [==============================] - 0s 3ms/step - loss: 0.0792 - accuracy: 0.9013 - val_loss: 0.0810 - val_accuracy: 0.8676\n",
            "Epoch 31/100\n",
            "32/32 [==============================] - 0s 3ms/step - loss: 0.0744 - accuracy: 0.9065 - val_loss: 0.0810 - val_accuracy: 0.8676\n",
            "Epoch 32/100\n",
            "32/32 [==============================] - 0s 3ms/step - loss: 0.0800 - accuracy: 0.8943 - val_loss: 0.0811 - val_accuracy: 0.8676\n",
            "Epoch 33/100\n",
            "32/32 [==============================] - 0s 2ms/step - loss: 0.0846 - accuracy: 0.8852 - val_loss: 0.0811 - val_accuracy: 0.8676\n",
            "Epoch 34/100\n",
            "32/32 [==============================] - 0s 3ms/step - loss: 0.0806 - accuracy: 0.8962 - val_loss: 0.0808 - val_accuracy: 0.8676\n",
            "Epoch 35/100\n",
            "32/32 [==============================] - 0s 3ms/step - loss: 0.0729 - accuracy: 0.9079 - val_loss: 0.0809 - val_accuracy: 0.8676\n",
            "Epoch 36/100\n",
            "32/32 [==============================] - 0s 2ms/step - loss: 0.0814 - accuracy: 0.8990 - val_loss: 0.0808 - val_accuracy: 0.8676\n",
            "Epoch 37/100\n",
            "32/32 [==============================] - 0s 3ms/step - loss: 0.0816 - accuracy: 0.8973 - val_loss: 0.0807 - val_accuracy: 0.8676\n",
            "Epoch 38/100\n",
            "32/32 [==============================] - 0s 3ms/step - loss: 0.0741 - accuracy: 0.9143 - val_loss: 0.0808 - val_accuracy: 0.8676\n",
            "Epoch 39/100\n",
            "32/32 [==============================] - 0s 2ms/step - loss: 0.0704 - accuracy: 0.9128 - val_loss: 0.0805 - val_accuracy: 0.8676\n",
            "Epoch 40/100\n",
            "32/32 [==============================] - 0s 2ms/step - loss: 0.0832 - accuracy: 0.8955 - val_loss: 0.0806 - val_accuracy: 0.8676\n",
            "Epoch 41/100\n",
            "32/32 [==============================] - 0s 2ms/step - loss: 0.0776 - accuracy: 0.9010 - val_loss: 0.0806 - val_accuracy: 0.8676\n",
            "Epoch 42/100\n",
            "32/32 [==============================] - 0s 3ms/step - loss: 0.0710 - accuracy: 0.9151 - val_loss: 0.0804 - val_accuracy: 0.8676\n",
            "Epoch 43/100\n",
            "32/32 [==============================] - 0s 3ms/step - loss: 0.0877 - accuracy: 0.8916 - val_loss: 0.0805 - val_accuracy: 0.8676\n",
            "Epoch 44/100\n",
            "32/32 [==============================] - 0s 3ms/step - loss: 0.0710 - accuracy: 0.9144 - val_loss: 0.0805 - val_accuracy: 0.8676\n",
            "Epoch 45/100\n",
            "32/32 [==============================] - 0s 3ms/step - loss: 0.0724 - accuracy: 0.9150 - val_loss: 0.0804 - val_accuracy: 0.8676\n",
            "Epoch 46/100\n",
            "32/32 [==============================] - 0s 3ms/step - loss: 0.0754 - accuracy: 0.9104 - val_loss: 0.0804 - val_accuracy: 0.8676\n",
            "Epoch 47/100\n",
            "32/32 [==============================] - 0s 3ms/step - loss: 0.0779 - accuracy: 0.9028 - val_loss: 0.0803 - val_accuracy: 0.8676\n",
            "Epoch 48/100\n",
            "32/32 [==============================] - 0s 2ms/step - loss: 0.0741 - accuracy: 0.9099 - val_loss: 0.0802 - val_accuracy: 0.8676\n",
            "Epoch 49/100\n",
            "32/32 [==============================] - 0s 3ms/step - loss: 0.0819 - accuracy: 0.8968 - val_loss: 0.0801 - val_accuracy: 0.8676\n",
            "Epoch 50/100\n",
            "32/32 [==============================] - 0s 3ms/step - loss: 0.0704 - accuracy: 0.9145 - val_loss: 0.0802 - val_accuracy: 0.8676\n",
            "Epoch 51/100\n",
            "32/32 [==============================] - 0s 3ms/step - loss: 0.0751 - accuracy: 0.9052 - val_loss: 0.0801 - val_accuracy: 0.8676\n",
            "Epoch 52/100\n",
            "32/32 [==============================] - 0s 3ms/step - loss: 0.0804 - accuracy: 0.8961 - val_loss: 0.0800 - val_accuracy: 0.8676\n",
            "Epoch 53/100\n",
            "32/32 [==============================] - 0s 3ms/step - loss: 0.0773 - accuracy: 0.8996 - val_loss: 0.0800 - val_accuracy: 0.8676\n",
            "Epoch 54/100\n",
            "32/32 [==============================] - 0s 2ms/step - loss: 0.0755 - accuracy: 0.9090 - val_loss: 0.0799 - val_accuracy: 0.8676\n",
            "Epoch 55/100\n",
            "32/32 [==============================] - 0s 3ms/step - loss: 0.0897 - accuracy: 0.8785 - val_loss: 0.0799 - val_accuracy: 0.8721\n",
            "Epoch 56/100\n",
            "32/32 [==============================] - 0s 2ms/step - loss: 0.0819 - accuracy: 0.9046 - val_loss: 0.0800 - val_accuracy: 0.8721\n",
            "Epoch 57/100\n",
            "32/32 [==============================] - 0s 3ms/step - loss: 0.0805 - accuracy: 0.8933 - val_loss: 0.0800 - val_accuracy: 0.8767\n",
            "Epoch 58/100\n",
            "32/32 [==============================] - 0s 3ms/step - loss: 0.0776 - accuracy: 0.8972 - val_loss: 0.0798 - val_accuracy: 0.8721\n",
            "Epoch 59/100\n",
            "32/32 [==============================] - 0s 2ms/step - loss: 0.0760 - accuracy: 0.9031 - val_loss: 0.0798 - val_accuracy: 0.8721\n",
            "Epoch 60/100\n",
            "32/32 [==============================] - 0s 3ms/step - loss: 0.0704 - accuracy: 0.9156 - val_loss: 0.0797 - val_accuracy: 0.8721\n",
            "Epoch 61/100\n",
            "32/32 [==============================] - 0s 3ms/step - loss: 0.0803 - accuracy: 0.8946 - val_loss: 0.0796 - val_accuracy: 0.8721\n",
            "Epoch 62/100\n",
            "32/32 [==============================] - 0s 3ms/step - loss: 0.0730 - accuracy: 0.9090 - val_loss: 0.0796 - val_accuracy: 0.8721\n",
            "Epoch 63/100\n",
            "32/32 [==============================] - 0s 3ms/step - loss: 0.0844 - accuracy: 0.8916 - val_loss: 0.0796 - val_accuracy: 0.8721\n",
            "Epoch 64/100\n",
            "32/32 [==============================] - 0s 3ms/step - loss: 0.0724 - accuracy: 0.9127 - val_loss: 0.0797 - val_accuracy: 0.8721\n",
            "Epoch 65/100\n",
            "32/32 [==============================] - 0s 3ms/step - loss: 0.0784 - accuracy: 0.9081 - val_loss: 0.0795 - val_accuracy: 0.8721\n",
            "Epoch 66/100\n",
            "32/32 [==============================] - 0s 2ms/step - loss: 0.0780 - accuracy: 0.9060 - val_loss: 0.0796 - val_accuracy: 0.8721\n",
            "Epoch 67/100\n",
            "32/32 [==============================] - 0s 2ms/step - loss: 0.0810 - accuracy: 0.8917 - val_loss: 0.0795 - val_accuracy: 0.8721\n",
            "Epoch 68/100\n",
            "32/32 [==============================] - 0s 3ms/step - loss: 0.0825 - accuracy: 0.8927 - val_loss: 0.0794 - val_accuracy: 0.8721\n",
            "Epoch 69/100\n",
            "32/32 [==============================] - 0s 3ms/step - loss: 0.0743 - accuracy: 0.9110 - val_loss: 0.0794 - val_accuracy: 0.8721\n",
            "Epoch 70/100\n",
            "32/32 [==============================] - 0s 3ms/step - loss: 0.0776 - accuracy: 0.9081 - val_loss: 0.0793 - val_accuracy: 0.8721\n",
            "Epoch 71/100\n",
            "32/32 [==============================] - 0s 2ms/step - loss: 0.0750 - accuracy: 0.9101 - val_loss: 0.0796 - val_accuracy: 0.8721\n",
            "Epoch 72/100\n",
            "32/32 [==============================] - 0s 3ms/step - loss: 0.0731 - accuracy: 0.9134 - val_loss: 0.0792 - val_accuracy: 0.8721\n",
            "Epoch 73/100\n",
            "32/32 [==============================] - 0s 3ms/step - loss: 0.0804 - accuracy: 0.9047 - val_loss: 0.0793 - val_accuracy: 0.8721\n",
            "Epoch 74/100\n",
            "32/32 [==============================] - 0s 3ms/step - loss: 0.0709 - accuracy: 0.9130 - val_loss: 0.0792 - val_accuracy: 0.8721\n",
            "Epoch 75/100\n",
            "32/32 [==============================] - 0s 3ms/step - loss: 0.0905 - accuracy: 0.8701 - val_loss: 0.0792 - val_accuracy: 0.8721\n",
            "Epoch 76/100\n",
            "32/32 [==============================] - 0s 3ms/step - loss: 0.0752 - accuracy: 0.9009 - val_loss: 0.0793 - val_accuracy: 0.8767\n",
            "Epoch 77/100\n",
            "32/32 [==============================] - 0s 2ms/step - loss: 0.0760 - accuracy: 0.9025 - val_loss: 0.0791 - val_accuracy: 0.8721\n",
            "Epoch 78/100\n",
            "32/32 [==============================] - 0s 3ms/step - loss: 0.0823 - accuracy: 0.8956 - val_loss: 0.0792 - val_accuracy: 0.8767\n",
            "Epoch 79/100\n",
            "32/32 [==============================] - 0s 3ms/step - loss: 0.0737 - accuracy: 0.9065 - val_loss: 0.0791 - val_accuracy: 0.8767\n",
            "Epoch 80/100\n",
            "32/32 [==============================] - 0s 3ms/step - loss: 0.0736 - accuracy: 0.9070 - val_loss: 0.0791 - val_accuracy: 0.8721\n",
            "Epoch 81/100\n",
            "32/32 [==============================] - 0s 2ms/step - loss: 0.0680 - accuracy: 0.9086 - val_loss: 0.0791 - val_accuracy: 0.8721\n",
            "Epoch 82/100\n",
            "32/32 [==============================] - 0s 3ms/step - loss: 0.0800 - accuracy: 0.8963 - val_loss: 0.0791 - val_accuracy: 0.8721\n",
            "Epoch 83/100\n",
            "32/32 [==============================] - 0s 2ms/step - loss: 0.0719 - accuracy: 0.9128 - val_loss: 0.0790 - val_accuracy: 0.8721\n",
            "Epoch 84/100\n",
            "32/32 [==============================] - 0s 2ms/step - loss: 0.0839 - accuracy: 0.8895 - val_loss: 0.0789 - val_accuracy: 0.8721\n",
            "Epoch 85/100\n",
            "32/32 [==============================] - 0s 3ms/step - loss: 0.0763 - accuracy: 0.9004 - val_loss: 0.0790 - val_accuracy: 0.8721\n",
            "Epoch 86/100\n",
            "32/32 [==============================] - 0s 3ms/step - loss: 0.0831 - accuracy: 0.8961 - val_loss: 0.0789 - val_accuracy: 0.8721\n",
            "Epoch 87/100\n",
            "32/32 [==============================] - 0s 3ms/step - loss: 0.0754 - accuracy: 0.9144 - val_loss: 0.0790 - val_accuracy: 0.8721\n",
            "Epoch 88/100\n",
            "32/32 [==============================] - 0s 3ms/step - loss: 0.0745 - accuracy: 0.9111 - val_loss: 0.0789 - val_accuracy: 0.8721\n",
            "Epoch 89/100\n",
            "32/32 [==============================] - 0s 2ms/step - loss: 0.0735 - accuracy: 0.9026 - val_loss: 0.0788 - val_accuracy: 0.8721\n",
            "Epoch 90/100\n",
            "32/32 [==============================] - 0s 3ms/step - loss: 0.0751 - accuracy: 0.9064 - val_loss: 0.0786 - val_accuracy: 0.8721\n",
            "Epoch 91/100\n",
            "32/32 [==============================] - 0s 3ms/step - loss: 0.0834 - accuracy: 0.8971 - val_loss: 0.0787 - val_accuracy: 0.8721\n",
            "Epoch 92/100\n",
            "32/32 [==============================] - 0s 3ms/step - loss: 0.0749 - accuracy: 0.9025 - val_loss: 0.0789 - val_accuracy: 0.8721\n",
            "Epoch 93/100\n",
            "32/32 [==============================] - 0s 3ms/step - loss: 0.0780 - accuracy: 0.8968 - val_loss: 0.0787 - val_accuracy: 0.8721\n",
            "Epoch 94/100\n",
            "32/32 [==============================] - 0s 2ms/step - loss: 0.0750 - accuracy: 0.9035 - val_loss: 0.0787 - val_accuracy: 0.8721\n",
            "Epoch 95/100\n",
            "32/32 [==============================] - 0s 3ms/step - loss: 0.0721 - accuracy: 0.9123 - val_loss: 0.0788 - val_accuracy: 0.8721\n",
            "Epoch 96/100\n",
            "32/32 [==============================] - 0s 3ms/step - loss: 0.0667 - accuracy: 0.9198 - val_loss: 0.0785 - val_accuracy: 0.8721\n",
            "Epoch 97/100\n",
            "32/32 [==============================] - 0s 3ms/step - loss: 0.0785 - accuracy: 0.8977 - val_loss: 0.0784 - val_accuracy: 0.8676\n",
            "Epoch 98/100\n",
            "32/32 [==============================] - 0s 3ms/step - loss: 0.0866 - accuracy: 0.8875 - val_loss: 0.0786 - val_accuracy: 0.8721\n",
            "Epoch 99/100\n",
            "32/32 [==============================] - 0s 3ms/step - loss: 0.0666 - accuracy: 0.9154 - val_loss: 0.0785 - val_accuracy: 0.8721\n",
            "Epoch 100/100\n",
            "32/32 [==============================] - 0s 3ms/step - loss: 0.0728 - accuracy: 0.9027 - val_loss: 0.0785 - val_accuracy: 0.8721\n"
          ],
          "name": "stdout"
        }
      ]
    },
    {
      "cell_type": "code",
      "metadata": {
        "colab": {
          "base_uri": "https://localhost:8080/"
        },
        "id": "fyUhj3Ft7Hkg",
        "outputId": "798a73bc-7ab6-4dc3-aab5-201d2dac685c"
      },
      "source": [
        "\n",
        "model.evaluate(xvalues_test, yvalues_test)"
      ],
      "execution_count": 42,
      "outputs": [
        {
          "output_type": "stream",
          "text": [
            "7/7 [==============================] - 0s 2ms/step - loss: 0.0909 - accuracy: 0.8584\n"
          ],
          "name": "stdout"
        },
        {
          "output_type": "execute_result",
          "data": {
            "text/plain": [
              "[0.09087448567152023, 0.8584474921226501]"
            ]
          },
          "metadata": {
            "tags": []
          },
          "execution_count": 42
        }
      ]
    },
    {
      "cell_type": "code",
      "metadata": {
        "colab": {
          "base_uri": "https://localhost:8080/",
          "height": 295
        },
        "id": "ZrfPHvBp7PCA",
        "outputId": "dbcc1b16-702e-4955-8caa-43fcb56a4275"
      },
      "source": [
        "import matplotlib.pyplot as plt\n",
        "plt.plot(hist.history['loss'])\n",
        "plt.plot(hist.history['val_loss'])\n",
        "plt.title('Loss function')\n",
        "plt.ylabel('Loss')\n",
        "plt.xlabel('Epoch')\n",
        "plt.legend(['Train', 'Value'])\n",
        "plt.show()"
      ],
      "execution_count": 43,
      "outputs": [
        {
          "output_type": "display_data",
          "data": {
            "image/png": "[encoded data removed]",
            "text/plain": [
              "<Figure size 432x288 with 1 Axes>"
            ]
          },
          "metadata": {
            "tags": [],
            "needs_background": "light"
          }
        }
      ]
    },
    {
      "cell_type": "code",
      "metadata": {
        "id": "CZJMInypJta0",
        "colab": {
          "base_uri": "https://localhost:8080/",
          "height": 295
        },
        "outputId": "f6179613-b1c1-4827-f37a-3066930c3893"
      },
      "source": [
        "plt.plot(hist.history['accuracy'])\n",
        "plt.plot(hist.history['val_accuracy'])\n",
        "plt.title('Model accuracy')\n",
        "plt.ylabel('Accuracy')\n",
        "plt.xlabel('Epoch')\n",
        "plt.legend(['Train', 'Val'], loc='lower right')\n",
        "plt.show()"
      ],
      "execution_count": null,
      "outputs": [
        {
          "output_type": "display_data",
          "data": {
            "image/png": "[encoded data removed]",
            "text/plain": [
              "<Figure size 432x288 with 1 Axes>"
            ]
          },
          "metadata": {
            "tags": [],
            "needs_background": "light"
          }
        }
      ]
    },
    {
      "cell_type": "code",
      "metadata": {
        "id": "6hOu6-Avsrum"
      },
      "source": [
        "#overfit model\n",
        "\n",
        "model_2 = Sequential([\n",
        "    Dense(1000, activation='relu', input_shape=(10,)),\n",
        "    Dense(1000, activation='relu'),\n",
        "    Dense(1000, activation='relu'),\n",
        "    Dense(1000, activation='relu'),\n",
        "    Dense(1, activation='sigmoid'),\n",
        "])"
      ],
      "execution_count": null,
      "outputs": []
    },
    {
      "cell_type": "code",
      "metadata": {
        "colab": {
          "base_uri": "https://localhost:8080/"
        },
        "id": "PF5BjEzNtoft",
        "outputId": "581e5538-68bd-4db3-8e8a-b2791cb90fba"
      },
      "source": [
        "model_2.compile(optimizer='adam',\n",
        "              loss='mean_squared_error',\n",
        "              metrics=['accuracy'])\n",
        "hist_2 = model_2.fit(xvalues_train, yvalues_train,\n",
        "          batch_size=32, epochs=100,\n",
        "          validation_data=(xvalues_val, yvalues_val))"
      ],
      "execution_count": 44,
      "outputs": [
        {
          "output_type": "stream",
          "text": [
            "Epoch 1/100\n",
            "32/32 [==============================] - 2s 42ms/step - loss: 0.0357 - accuracy: 0.9468 - val_loss: 0.1134 - val_accuracy: 0.8630\n",
            "Epoch 2/100\n",
            "32/32 [==============================] - 1s 37ms/step - loss: 0.0298 - accuracy: 0.9636 - val_loss: 0.1002 - val_accuracy: 0.8767\n",
            "Epoch 3/100\n",
            "32/32 [==============================] - 1s 37ms/step - loss: 0.0239 - accuracy: 0.9675 - val_loss: 0.1030 - val_accuracy: 0.8676\n",
            "Epoch 4/100\n",
            "32/32 [==============================] - 1s 38ms/step - loss: 0.0295 - accuracy: 0.9596 - val_loss: 0.0954 - val_accuracy: 0.8858\n",
            "Epoch 5/100\n",
            "32/32 [==============================] - 1s 38ms/step - loss: 0.0417 - accuracy: 0.9458 - val_loss: 0.1072 - val_accuracy: 0.8813\n",
            "Epoch 6/100\n",
            "32/32 [==============================] - 1s 38ms/step - loss: 0.0346 - accuracy: 0.9497 - val_loss: 0.1190 - val_accuracy: 0.8630\n",
            "Epoch 7/100\n",
            "32/32 [==============================] - 1s 39ms/step - loss: 0.0381 - accuracy: 0.9559 - val_loss: 0.1115 - val_accuracy: 0.8676\n",
            "Epoch 8/100\n",
            "32/32 [==============================] - 1s 38ms/step - loss: 0.0284 - accuracy: 0.9682 - val_loss: 0.1095 - val_accuracy: 0.8858\n",
            "Epoch 9/100\n",
            "32/32 [==============================] - 1s 38ms/step - loss: 0.0345 - accuracy: 0.9585 - val_loss: 0.1079 - val_accuracy: 0.8721\n",
            "Epoch 10/100\n",
            "32/32 [==============================] - 1s 38ms/step - loss: 0.0224 - accuracy: 0.9713 - val_loss: 0.1071 - val_accuracy: 0.8721\n",
            "Epoch 11/100\n",
            "32/32 [==============================] - 1s 38ms/step - loss: 0.0271 - accuracy: 0.9611 - val_loss: 0.1164 - val_accuracy: 0.8402\n",
            "Epoch 12/100\n",
            "32/32 [==============================] - 1s 41ms/step - loss: 0.0325 - accuracy: 0.9581 - val_loss: 0.1096 - val_accuracy: 0.8721\n",
            "Epoch 13/100\n",
            "32/32 [==============================] - 1s 38ms/step - loss: 0.0374 - accuracy: 0.9550 - val_loss: 0.1134 - val_accuracy: 0.8584\n",
            "Epoch 14/100\n",
            "32/32 [==============================] - 1s 38ms/step - loss: 0.0372 - accuracy: 0.9444 - val_loss: 0.1006 - val_accuracy: 0.8904\n",
            "Epoch 15/100\n",
            "32/32 [==============================] - 1s 37ms/step - loss: 0.0330 - accuracy: 0.9580 - val_loss: 0.1036 - val_accuracy: 0.8858\n",
            "Epoch 16/100\n",
            "32/32 [==============================] - 1s 38ms/step - loss: 0.0392 - accuracy: 0.9557 - val_loss: 0.0996 - val_accuracy: 0.8721\n",
            "Epoch 17/100\n",
            "32/32 [==============================] - 1s 38ms/step - loss: 0.0437 - accuracy: 0.9423 - val_loss: 0.1150 - val_accuracy: 0.8630\n",
            "Epoch 18/100\n",
            "32/32 [==============================] - 1s 38ms/step - loss: 0.0317 - accuracy: 0.9577 - val_loss: 0.0849 - val_accuracy: 0.9087\n",
            "Epoch 19/100\n",
            "32/32 [==============================] - 1s 38ms/step - loss: 0.0411 - accuracy: 0.9396 - val_loss: 0.1108 - val_accuracy: 0.8767\n",
            "Epoch 20/100\n",
            "32/32 [==============================] - 1s 38ms/step - loss: 0.0282 - accuracy: 0.9650 - val_loss: 0.1111 - val_accuracy: 0.8493\n",
            "Epoch 21/100\n",
            "32/32 [==============================] - 1s 39ms/step - loss: 0.0293 - accuracy: 0.9652 - val_loss: 0.1065 - val_accuracy: 0.8676\n",
            "Epoch 22/100\n",
            "32/32 [==============================] - 1s 41ms/step - loss: 0.0237 - accuracy: 0.9660 - val_loss: 0.1053 - val_accuracy: 0.8767\n",
            "Epoch 23/100\n",
            "32/32 [==============================] - 1s 39ms/step - loss: 0.0169 - accuracy: 0.9766 - val_loss: 0.1102 - val_accuracy: 0.8767\n",
            "Epoch 24/100\n",
            "32/32 [==============================] - 1s 38ms/step - loss: 0.0317 - accuracy: 0.9577 - val_loss: 0.1151 - val_accuracy: 0.8630\n",
            "Epoch 25/100\n",
            "32/32 [==============================] - 1s 39ms/step - loss: 0.0524 - accuracy: 0.9298 - val_loss: 0.1094 - val_accuracy: 0.8767\n",
            "Epoch 26/100\n",
            "32/32 [==============================] - 1s 39ms/step - loss: 0.0260 - accuracy: 0.9678 - val_loss: 0.1039 - val_accuracy: 0.8630\n",
            "Epoch 27/100\n",
            "32/32 [==============================] - 1s 38ms/step - loss: 0.0207 - accuracy: 0.9771 - val_loss: 0.1019 - val_accuracy: 0.8767\n",
            "Epoch 28/100\n",
            "32/32 [==============================] - 1s 37ms/step - loss: 0.0323 - accuracy: 0.9627 - val_loss: 0.1166 - val_accuracy: 0.8630\n",
            "Epoch 29/100\n",
            "32/32 [==============================] - 1s 38ms/step - loss: 0.0252 - accuracy: 0.9718 - val_loss: 0.1194 - val_accuracy: 0.8630\n",
            "Epoch 30/100\n",
            "32/32 [==============================] - 1s 39ms/step - loss: 0.0261 - accuracy: 0.9551 - val_loss: 0.1080 - val_accuracy: 0.8676\n",
            "Epoch 31/100\n",
            "32/32 [==============================] - 1s 38ms/step - loss: 0.0279 - accuracy: 0.9630 - val_loss: 0.1156 - val_accuracy: 0.8584\n",
            "Epoch 32/100\n",
            "32/32 [==============================] - 1s 38ms/step - loss: 0.0280 - accuracy: 0.9639 - val_loss: 0.1115 - val_accuracy: 0.8676\n",
            "Epoch 33/100\n",
            "32/32 [==============================] - 1s 38ms/step - loss: 0.0241 - accuracy: 0.9670 - val_loss: 0.1000 - val_accuracy: 0.8858\n",
            "Epoch 34/100\n",
            "32/32 [==============================] - 1s 38ms/step - loss: 0.0205 - accuracy: 0.9743 - val_loss: 0.1120 - val_accuracy: 0.8584\n",
            "Epoch 35/100\n",
            "32/32 [==============================] - 1s 38ms/step - loss: 0.0273 - accuracy: 0.9644 - val_loss: 0.1118 - val_accuracy: 0.8676\n",
            "Epoch 36/100\n",
            "32/32 [==============================] - 1s 38ms/step - loss: 0.0197 - accuracy: 0.9750 - val_loss: 0.1135 - val_accuracy: 0.8676\n",
            "Epoch 37/100\n",
            "32/32 [==============================] - 1s 38ms/step - loss: 0.0207 - accuracy: 0.9705 - val_loss: 0.1053 - val_accuracy: 0.8858\n",
            "Epoch 38/100\n",
            "32/32 [==============================] - 1s 39ms/step - loss: 0.0202 - accuracy: 0.9753 - val_loss: 0.1240 - val_accuracy: 0.8493\n",
            "Epoch 39/100\n",
            "32/32 [==============================] - 1s 39ms/step - loss: 0.0203 - accuracy: 0.9692 - val_loss: 0.1213 - val_accuracy: 0.8676\n",
            "Epoch 40/100\n",
            "32/32 [==============================] - 1s 38ms/step - loss: 0.0316 - accuracy: 0.9605 - val_loss: 0.1164 - val_accuracy: 0.8539\n",
            "Epoch 41/100\n",
            "32/32 [==============================] - 1s 38ms/step - loss: 0.0325 - accuracy: 0.9559 - val_loss: 0.1138 - val_accuracy: 0.8539\n",
            "Epoch 42/100\n",
            "32/32 [==============================] - 1s 38ms/step - loss: 0.0264 - accuracy: 0.9645 - val_loss: 0.1072 - val_accuracy: 0.8813\n",
            "Epoch 43/100\n",
            "32/32 [==============================] - 1s 39ms/step - loss: 0.0292 - accuracy: 0.9607 - val_loss: 0.1151 - val_accuracy: 0.8767\n",
            "Epoch 44/100\n",
            "32/32 [==============================] - 1s 38ms/step - loss: 0.0278 - accuracy: 0.9682 - val_loss: 0.0952 - val_accuracy: 0.8858\n",
            "Epoch 45/100\n",
            "32/32 [==============================] - 1s 38ms/step - loss: 0.0179 - accuracy: 0.9761 - val_loss: 0.1173 - val_accuracy: 0.8584\n",
            "Epoch 46/100\n",
            "32/32 [==============================] - 1s 42ms/step - loss: 0.0335 - accuracy: 0.9556 - val_loss: 0.0942 - val_accuracy: 0.8950\n",
            "Epoch 47/100\n",
            "32/32 [==============================] - 1s 38ms/step - loss: 0.0236 - accuracy: 0.9696 - val_loss: 0.1074 - val_accuracy: 0.8813\n",
            "Epoch 48/100\n",
            "32/32 [==============================] - 1s 39ms/step - loss: 0.0268 - accuracy: 0.9599 - val_loss: 0.0998 - val_accuracy: 0.8904\n",
            "Epoch 49/100\n",
            "32/32 [==============================] - 1s 40ms/step - loss: 0.0491 - accuracy: 0.9357 - val_loss: 0.1061 - val_accuracy: 0.8676\n",
            "Epoch 50/100\n",
            "32/32 [==============================] - 1s 39ms/step - loss: 0.0260 - accuracy: 0.9700 - val_loss: 0.1053 - val_accuracy: 0.8721\n",
            "Epoch 51/100\n",
            "32/32 [==============================] - 1s 38ms/step - loss: 0.0253 - accuracy: 0.9695 - val_loss: 0.1106 - val_accuracy: 0.8721\n",
            "Epoch 52/100\n",
            "32/32 [==============================] - 1s 39ms/step - loss: 0.0231 - accuracy: 0.9661 - val_loss: 0.1036 - val_accuracy: 0.8858\n",
            "Epoch 53/100\n",
            "32/32 [==============================] - 1s 38ms/step - loss: 0.0233 - accuracy: 0.9682 - val_loss: 0.1172 - val_accuracy: 0.8676\n",
            "Epoch 54/100\n",
            "32/32 [==============================] - 1s 39ms/step - loss: 0.0154 - accuracy: 0.9807 - val_loss: 0.1168 - val_accuracy: 0.8630\n",
            "Epoch 55/100\n",
            "32/32 [==============================] - 1s 39ms/step - loss: 0.0141 - accuracy: 0.9799 - val_loss: 0.1114 - val_accuracy: 0.8676\n",
            "Epoch 56/100\n",
            "32/32 [==============================] - 1s 39ms/step - loss: 0.0165 - accuracy: 0.9748 - val_loss: 0.1080 - val_accuracy: 0.8721\n",
            "Epoch 57/100\n",
            "32/32 [==============================] - 1s 39ms/step - loss: 0.0198 - accuracy: 0.9756 - val_loss: 0.1104 - val_accuracy: 0.8721\n",
            "Epoch 58/100\n",
            "32/32 [==============================] - 1s 38ms/step - loss: 0.0180 - accuracy: 0.9750 - val_loss: 0.1027 - val_accuracy: 0.8858\n",
            "Epoch 59/100\n",
            "32/32 [==============================] - 1s 38ms/step - loss: 0.0309 - accuracy: 0.9610 - val_loss: 0.1068 - val_accuracy: 0.8721\n",
            "Epoch 60/100\n",
            "32/32 [==============================] - 1s 39ms/step - loss: 0.0269 - accuracy: 0.9635 - val_loss: 0.1031 - val_accuracy: 0.8767\n",
            "Epoch 61/100\n",
            "32/32 [==============================] - 1s 38ms/step - loss: 0.0164 - accuracy: 0.9804 - val_loss: 0.1378 - val_accuracy: 0.8356\n",
            "Epoch 62/100\n",
            "32/32 [==============================] - 1s 38ms/step - loss: 0.0253 - accuracy: 0.9691 - val_loss: 0.1110 - val_accuracy: 0.8721\n",
            "Epoch 63/100\n",
            "32/32 [==============================] - 1s 38ms/step - loss: 0.0217 - accuracy: 0.9742 - val_loss: 0.1074 - val_accuracy: 0.8813\n",
            "Epoch 64/100\n",
            "32/32 [==============================] - 1s 38ms/step - loss: 0.0221 - accuracy: 0.9681 - val_loss: 0.0940 - val_accuracy: 0.8995\n",
            "Epoch 65/100\n",
            "32/32 [==============================] - 1s 38ms/step - loss: 0.0387 - accuracy: 0.9529 - val_loss: 0.1101 - val_accuracy: 0.8584\n",
            "Epoch 66/100\n",
            "32/32 [==============================] - 1s 38ms/step - loss: 0.0232 - accuracy: 0.9777 - val_loss: 0.1231 - val_accuracy: 0.8584\n",
            "Epoch 67/100\n",
            "32/32 [==============================] - 1s 39ms/step - loss: 0.0247 - accuracy: 0.9672 - val_loss: 0.1095 - val_accuracy: 0.8630\n",
            "Epoch 68/100\n",
            "32/32 [==============================] - 1s 40ms/step - loss: 0.0136 - accuracy: 0.9836 - val_loss: 0.1083 - val_accuracy: 0.8904\n",
            "Epoch 69/100\n",
            "32/32 [==============================] - 1s 41ms/step - loss: 0.0175 - accuracy: 0.9740 - val_loss: 0.1104 - val_accuracy: 0.8767\n",
            "Epoch 70/100\n",
            "32/32 [==============================] - 1s 42ms/step - loss: 0.0217 - accuracy: 0.9726 - val_loss: 0.1104 - val_accuracy: 0.8721\n",
            "Epoch 71/100\n",
            "32/32 [==============================] - 1s 42ms/step - loss: 0.0470 - accuracy: 0.9455 - val_loss: 0.0859 - val_accuracy: 0.8813\n",
            "Epoch 72/100\n",
            "32/32 [==============================] - 1s 40ms/step - loss: 0.0271 - accuracy: 0.9628 - val_loss: 0.1132 - val_accuracy: 0.8493\n",
            "Epoch 73/100\n",
            "32/32 [==============================] - 1s 39ms/step - loss: 0.0167 - accuracy: 0.9801 - val_loss: 0.1049 - val_accuracy: 0.8813\n",
            "Epoch 74/100\n",
            "32/32 [==============================] - 1s 39ms/step - loss: 0.0163 - accuracy: 0.9794 - val_loss: 0.1056 - val_accuracy: 0.8813\n",
            "Epoch 75/100\n",
            "32/32 [==============================] - 1s 39ms/step - loss: 0.0215 - accuracy: 0.9685 - val_loss: 0.1176 - val_accuracy: 0.8584\n",
            "Epoch 76/100\n",
            "32/32 [==============================] - 1s 40ms/step - loss: 0.0153 - accuracy: 0.9820 - val_loss: 0.1074 - val_accuracy: 0.8858\n",
            "Epoch 77/100\n",
            "32/32 [==============================] - 1s 40ms/step - loss: 0.0304 - accuracy: 0.9622 - val_loss: 0.1037 - val_accuracy: 0.8813\n",
            "Epoch 78/100\n",
            "32/32 [==============================] - 1s 39ms/step - loss: 0.0433 - accuracy: 0.9488 - val_loss: 0.0971 - val_accuracy: 0.8813\n",
            "Epoch 79/100\n",
            "32/32 [==============================] - 1s 40ms/step - loss: 0.0178 - accuracy: 0.9829 - val_loss: 0.1015 - val_accuracy: 0.8813\n",
            "Epoch 80/100\n",
            "32/32 [==============================] - 1s 40ms/step - loss: 0.0213 - accuracy: 0.9750 - val_loss: 0.1024 - val_accuracy: 0.8767\n",
            "Epoch 81/100\n",
            "32/32 [==============================] - 1s 40ms/step - loss: 0.0213 - accuracy: 0.9719 - val_loss: 0.1053 - val_accuracy: 0.8721\n",
            "Epoch 82/100\n",
            "32/32 [==============================] - 1s 39ms/step - loss: 0.0160 - accuracy: 0.9776 - val_loss: 0.1082 - val_accuracy: 0.8721\n",
            "Epoch 83/100\n",
            "32/32 [==============================] - 1s 39ms/step - loss: 0.0171 - accuracy: 0.9763 - val_loss: 0.1250 - val_accuracy: 0.8676\n",
            "Epoch 84/100\n",
            "32/32 [==============================] - 1s 39ms/step - loss: 0.0173 - accuracy: 0.9775 - val_loss: 0.1299 - val_accuracy: 0.8493\n",
            "Epoch 85/100\n",
            "32/32 [==============================] - 1s 39ms/step - loss: 0.0210 - accuracy: 0.9702 - val_loss: 0.1186 - val_accuracy: 0.8630\n",
            "Epoch 86/100\n",
            "32/32 [==============================] - 1s 40ms/step - loss: 0.0237 - accuracy: 0.9656 - val_loss: 0.1017 - val_accuracy: 0.8858\n",
            "Epoch 87/100\n",
            "32/32 [==============================] - 1s 38ms/step - loss: 0.0196 - accuracy: 0.9768 - val_loss: 0.1060 - val_accuracy: 0.8813\n",
            "Epoch 88/100\n",
            "32/32 [==============================] - 1s 39ms/step - loss: 0.0188 - accuracy: 0.9747 - val_loss: 0.1156 - val_accuracy: 0.8721\n",
            "Epoch 89/100\n",
            "32/32 [==============================] - 1s 39ms/step - loss: 0.0199 - accuracy: 0.9728 - val_loss: 0.0973 - val_accuracy: 0.8858\n",
            "Epoch 90/100\n",
            "32/32 [==============================] - 1s 38ms/step - loss: 0.0200 - accuracy: 0.9742 - val_loss: 0.1266 - val_accuracy: 0.8493\n",
            "Epoch 91/100\n",
            "32/32 [==============================] - 1s 38ms/step - loss: 0.0201 - accuracy: 0.9748 - val_loss: 0.1000 - val_accuracy: 0.8858\n",
            "Epoch 92/100\n",
            "32/32 [==============================] - 1s 38ms/step - loss: 0.0451 - accuracy: 0.9470 - val_loss: 0.0895 - val_accuracy: 0.8950\n",
            "Epoch 93/100\n",
            "32/32 [==============================] - 2s 63ms/step - loss: 0.0177 - accuracy: 0.9738 - val_loss: 0.1092 - val_accuracy: 0.8630\n",
            "Epoch 94/100\n",
            "32/32 [==============================] - 1s 43ms/step - loss: 0.0119 - accuracy: 0.9877 - val_loss: 0.1202 - val_accuracy: 0.8630\n",
            "Epoch 95/100\n",
            "32/32 [==============================] - 1s 42ms/step - loss: 0.0196 - accuracy: 0.9695 - val_loss: 0.1155 - val_accuracy: 0.8539\n",
            "Epoch 96/100\n",
            "32/32 [==============================] - 1s 43ms/step - loss: 0.0158 - accuracy: 0.9840 - val_loss: 0.1087 - val_accuracy: 0.8767\n",
            "Epoch 97/100\n",
            "32/32 [==============================] - 1s 39ms/step - loss: 0.0100 - accuracy: 0.9877 - val_loss: 0.1234 - val_accuracy: 0.8539\n",
            "Epoch 98/100\n",
            "32/32 [==============================] - 1s 42ms/step - loss: 0.0202 - accuracy: 0.9716 - val_loss: 0.1149 - val_accuracy: 0.8676\n",
            "Epoch 99/100\n",
            "32/32 [==============================] - 1s 38ms/step - loss: 0.0202 - accuracy: 0.9758 - val_loss: 0.1127 - val_accuracy: 0.8767\n",
            "Epoch 100/100\n",
            "32/32 [==============================] - 1s 38ms/step - loss: 0.0261 - accuracy: 0.9594 - val_loss: 0.1025 - val_accuracy: 0.8813\n"
          ],
          "name": "stdout"
        }
      ]
    },
    {
      "cell_type": "code",
      "metadata": {
        "colab": {
          "base_uri": "https://localhost:8080/",
          "height": 295
        },
        "id": "7s26bEPwuT2N",
        "outputId": "22c7b55d-cf67-40ec-cfaf-440ba74c46a4"
      },
      "source": [
        "plt.plot(hist_2.history['loss'])\n",
        "plt.plot(hist_2.history['val_loss'])\n",
        "plt.title('Model loss')\n",
        "plt.ylabel('Loss')\n",
        "plt.xlabel('Epoch')\n",
        "plt.legend(['Train', 'Val'], loc='upper right')\n",
        "plt.show()"
      ],
      "execution_count": 45,
      "outputs": [
        {
          "output_type": "display_data",
          "data": {
            "image/png": "[encoded data removed]",
            "text/plain": [
              "<Figure size 432x288 with 1 Axes>"
            ]
          },
          "metadata": {
            "tags": [],
            "needs_background": "light"
          }
        }
      ]
    },
    {
      "cell_type": "code",
      "metadata": {
        "colab": {
          "base_uri": "https://localhost:8080/",
          "height": 295
        },
        "id": "y4I41Z6ouWEs",
        "outputId": "ad36720c-bc1e-4bc4-ff2a-48daa55782a8"
      },
      "source": [
        "plt.plot(hist_2.history['accuracy'])\n",
        "plt.plot(hist_2.history['val_accuracy'])\n",
        "plt.title('Model accuracy')\n",
        "plt.ylabel('Accuracy')\n",
        "plt.xlabel('Epoch')\n",
        "plt.legend(['Train', 'Val'], loc='lower right')\n",
        "plt.show()"
      ],
      "execution_count": 46,
      "outputs": [
        {
          "output_type": "display_data",
          "data": {
            "image/png": "[encoded data removed]",
            "text/plain": [
              "<Figure size 432x288 with 1 Axes>"
            ]
          },
          "metadata": {
            "tags": [],
            "needs_background": "light"
          }
        }
      ]
    },
    {
      "cell_type": "code",
      "metadata": {
        "id": "l0zTpoDPuhkJ"
      },
      "source": [
        "#Try to reduce overfitting \n",
        "\n",
        "from keras.layers import Dropout\n",
        "from keras import regularizers\n",
        "\n",
        "model_3 = Sequential([\n",
        "    Dense(1000, activation='relu', kernel_regularizer=regularizers.l2(0.01), input_shape=(10,)),\n",
        "    Dropout(0.3),\n",
        "    Dense(1000, activation='relu', kernel_regularizer=regularizers.l2(0.01)),\n",
        "    Dropout(0.3),\n",
        "    Dense(1000, activation='relu', kernel_regularizer=regularizers.l2(0.01)),\n",
        "    Dropout(0.3),\n",
        "    Dense(1000, activation='relu', kernel_regularizer=regularizers.l2(0.01)),\n",
        "    Dropout(0.3),\n",
        "    Dense(1, activation='sigmoid', kernel_regularizer=regularizers.l2(0.01)),\n",
        "])"
      ],
      "execution_count": 47,
      "outputs": []
    },
    {
      "cell_type": "code",
      "metadata": {
        "colab": {
          "base_uri": "https://localhost:8080/"
        },
        "id": "jYCgiuWTvEy3",
        "outputId": "38508b71-df70-41a9-ad5c-b37db2e3f3f6"
      },
      "source": [
        "model_3.compile(optimizer='adam',\n",
        "              loss='mean_squared_error',\n",
        "              metrics=['accuracy'])\n",
        "hist_3 = model_3.fit(xvalues_train, yvalues_train,\n",
        "          batch_size=32, epochs=100,\n",
        "          validation_data=(xvalues_val, yvalues_val))"
      ],
      "execution_count": 48,
      "outputs": [
        {
          "output_type": "stream",
          "text": [
            "Epoch 1/100\n",
            "32/32 [==============================] - 3s 57ms/step - loss: 20.6294 - accuracy: 0.5524 - val_loss: 3.4527 - val_accuracy: 0.5662\n",
            "Epoch 2/100\n",
            "32/32 [==============================] - 2s 49ms/step - loss: 2.0886 - accuracy: 0.5355 - val_loss: 0.3562 - val_accuracy: 0.4932\n",
            "Epoch 3/100\n",
            "32/32 [==============================] - 2s 48ms/step - loss: 0.3028 - accuracy: 0.4810 - val_loss: 0.2529 - val_accuracy: 0.5068\n",
            "Epoch 4/100\n",
            "32/32 [==============================] - 2s 49ms/step - loss: 0.2518 - accuracy: 0.5108 - val_loss: 0.2502 - val_accuracy: 0.5068\n",
            "Epoch 5/100\n",
            "32/32 [==============================] - 2s 49ms/step - loss: 0.2502 - accuracy: 0.4685 - val_loss: 0.2500 - val_accuracy: 0.5068\n",
            "Epoch 6/100\n",
            "32/32 [==============================] - 2s 53ms/step - loss: 0.2500 - accuracy: 0.4954 - val_loss: 0.2500 - val_accuracy: 0.5068\n",
            "Epoch 7/100\n",
            "32/32 [==============================] - 2s 49ms/step - loss: 0.2500 - accuracy: 0.5036 - val_loss: 0.2500 - val_accuracy: 0.5068\n",
            "Epoch 8/100\n",
            "32/32 [==============================] - 2s 49ms/step - loss: 0.2500 - accuracy: 0.4919 - val_loss: 0.2500 - val_accuracy: 0.5068\n",
            "Epoch 9/100\n",
            "32/32 [==============================] - 2s 49ms/step - loss: 0.2500 - accuracy: 0.5197 - val_loss: 0.2500 - val_accuracy: 0.5068\n",
            "Epoch 10/100\n",
            "32/32 [==============================] - 2s 49ms/step - loss: 0.2500 - accuracy: 0.5166 - val_loss: 0.2500 - val_accuracy: 0.5068\n",
            "Epoch 11/100\n",
            "32/32 [==============================] - 2s 48ms/step - loss: 0.2500 - accuracy: 0.4961 - val_loss: 0.2500 - val_accuracy: 0.5068\n",
            "Epoch 12/100\n",
            "32/32 [==============================] - 2s 49ms/step - loss: 0.2501 - accuracy: 0.4893 - val_loss: 0.2500 - val_accuracy: 0.5068\n",
            "Epoch 13/100\n",
            "32/32 [==============================] - 2s 50ms/step - loss: 0.2500 - accuracy: 0.5420 - val_loss: 0.2500 - val_accuracy: 0.5068\n",
            "Epoch 14/100\n",
            "32/32 [==============================] - 2s 48ms/step - loss: 0.2499 - accuracy: 0.5217 - val_loss: 0.2500 - val_accuracy: 0.5068\n",
            "Epoch 15/100\n",
            "32/32 [==============================] - 2s 49ms/step - loss: 0.2500 - accuracy: 0.5211 - val_loss: 0.2500 - val_accuracy: 0.5068\n",
            "Epoch 16/100\n",
            "32/32 [==============================] - 2s 48ms/step - loss: 0.2500 - accuracy: 0.5035 - val_loss: 0.2500 - val_accuracy: 0.5068\n",
            "Epoch 17/100\n",
            "32/32 [==============================] - 2s 49ms/step - loss: 0.2500 - accuracy: 0.4924 - val_loss: 0.2500 - val_accuracy: 0.5068\n",
            "Epoch 18/100\n",
            "32/32 [==============================] - 2s 49ms/step - loss: 0.2500 - accuracy: 0.5019 - val_loss: 0.2500 - val_accuracy: 0.5068\n",
            "Epoch 19/100\n",
            "32/32 [==============================] - 2s 50ms/step - loss: 0.2501 - accuracy: 0.4763 - val_loss: 0.2500 - val_accuracy: 0.5068\n",
            "Epoch 20/100\n",
            "32/32 [==============================] - 2s 49ms/step - loss: 0.2500 - accuracy: 0.5042 - val_loss: 0.2500 - val_accuracy: 0.5068\n",
            "Epoch 21/100\n",
            "32/32 [==============================] - 2s 48ms/step - loss: 0.2500 - accuracy: 0.5066 - val_loss: 0.2500 - val_accuracy: 0.5068\n",
            "Epoch 22/100\n",
            "32/32 [==============================] - 2s 48ms/step - loss: 0.2499 - accuracy: 0.5263 - val_loss: 0.2500 - val_accuracy: 0.5068\n",
            "Epoch 23/100\n",
            "32/32 [==============================] - 2s 49ms/step - loss: 0.2498 - accuracy: 0.5503 - val_loss: 0.2500 - val_accuracy: 0.5068\n",
            "Epoch 24/100\n",
            "32/32 [==============================] - 2s 49ms/step - loss: 0.2499 - accuracy: 0.5180 - val_loss: 0.2500 - val_accuracy: 0.5068\n",
            "Epoch 25/100\n",
            "32/32 [==============================] - 2s 50ms/step - loss: 0.2499 - accuracy: 0.5149 - val_loss: 0.2500 - val_accuracy: 0.5068\n",
            "Epoch 26/100\n",
            "32/32 [==============================] - 2s 48ms/step - loss: 0.2500 - accuracy: 0.5101 - val_loss: 0.2500 - val_accuracy: 0.5068\n",
            "Epoch 27/100\n",
            "32/32 [==============================] - 2s 48ms/step - loss: 0.2500 - accuracy: 0.5053 - val_loss: 0.2500 - val_accuracy: 0.5068\n",
            "Epoch 28/100\n",
            "32/32 [==============================] - 2s 48ms/step - loss: 0.2501 - accuracy: 0.4845 - val_loss: 0.2500 - val_accuracy: 0.5068\n",
            "Epoch 29/100\n",
            "32/32 [==============================] - 2s 48ms/step - loss: 0.2501 - accuracy: 0.4883 - val_loss: 0.2500 - val_accuracy: 0.5068\n",
            "Epoch 30/100\n",
            "32/32 [==============================] - 2s 48ms/step - loss: 0.2500 - accuracy: 0.5037 - val_loss: 0.2500 - val_accuracy: 0.5068\n",
            "Epoch 31/100\n",
            "32/32 [==============================] - 2s 49ms/step - loss: 0.2500 - accuracy: 0.5105 - val_loss: 0.2500 - val_accuracy: 0.5068\n",
            "Epoch 32/100\n",
            "32/32 [==============================] - 2s 49ms/step - loss: 0.2499 - accuracy: 0.5254 - val_loss: 0.2500 - val_accuracy: 0.5068\n",
            "Epoch 33/100\n",
            "32/32 [==============================] - 2s 52ms/step - loss: 0.2500 - accuracy: 0.4946 - val_loss: 0.2500 - val_accuracy: 0.5068\n",
            "Epoch 34/100\n",
            "32/32 [==============================] - 2s 49ms/step - loss: 0.2500 - accuracy: 0.5125 - val_loss: 0.2500 - val_accuracy: 0.5068\n",
            "Epoch 35/100\n",
            "32/32 [==============================] - 2s 48ms/step - loss: 0.2502 - accuracy: 0.4729 - val_loss: 0.2500 - val_accuracy: 0.5068\n",
            "Epoch 36/100\n",
            "32/32 [==============================] - 2s 50ms/step - loss: 0.2501 - accuracy: 0.4820 - val_loss: 0.2500 - val_accuracy: 0.5068\n",
            "Epoch 37/100\n",
            "32/32 [==============================] - 2s 51ms/step - loss: 0.2501 - accuracy: 0.4758 - val_loss: 0.2500 - val_accuracy: 0.5068\n",
            "Epoch 38/100\n",
            "32/32 [==============================] - 2s 51ms/step - loss: 0.2501 - accuracy: 0.4926 - val_loss: 0.2500 - val_accuracy: 0.5068\n",
            "Epoch 39/100\n",
            "32/32 [==============================] - 2s 51ms/step - loss: 0.2501 - accuracy: 0.4824 - val_loss: 0.2500 - val_accuracy: 0.5068\n",
            "Epoch 40/100\n",
            "32/32 [==============================] - 2s 49ms/step - loss: 0.2499 - accuracy: 0.5307 - val_loss: 0.2500 - val_accuracy: 0.5068\n",
            "Epoch 41/100\n",
            "32/32 [==============================] - 2s 49ms/step - loss: 0.2500 - accuracy: 0.4962 - val_loss: 0.2500 - val_accuracy: 0.5068\n",
            "Epoch 42/100\n",
            "32/32 [==============================] - 2s 49ms/step - loss: 0.2500 - accuracy: 0.5033 - val_loss: 0.2500 - val_accuracy: 0.5068\n",
            "Epoch 43/100\n",
            "32/32 [==============================] - 2s 49ms/step - loss: 0.2501 - accuracy: 0.4853 - val_loss: 0.2500 - val_accuracy: 0.5068\n",
            "Epoch 44/100\n",
            "32/32 [==============================] - 2s 49ms/step - loss: 0.2498 - accuracy: 0.5291 - val_loss: 0.2500 - val_accuracy: 0.5068\n",
            "Epoch 45/100\n",
            "32/32 [==============================] - 2s 51ms/step - loss: 0.2500 - accuracy: 0.4943 - val_loss: 0.2500 - val_accuracy: 0.5068\n",
            "Epoch 46/100\n",
            "32/32 [==============================] - 2s 50ms/step - loss: 0.2500 - accuracy: 0.4994 - val_loss: 0.2500 - val_accuracy: 0.5068\n",
            "Epoch 47/100\n",
            "32/32 [==============================] - 2s 50ms/step - loss: 0.2501 - accuracy: 0.4900 - val_loss: 0.2500 - val_accuracy: 0.5068\n",
            "Epoch 48/100\n",
            "32/32 [==============================] - 2s 49ms/step - loss: 0.2500 - accuracy: 0.5063 - val_loss: 0.2500 - val_accuracy: 0.5068\n",
            "Epoch 49/100\n",
            "32/32 [==============================] - 2s 49ms/step - loss: 0.2500 - accuracy: 0.5047 - val_loss: 0.2500 - val_accuracy: 0.5068\n",
            "Epoch 50/100\n",
            "32/32 [==============================] - 2s 48ms/step - loss: 0.2499 - accuracy: 0.5133 - val_loss: 0.2500 - val_accuracy: 0.5068\n",
            "Epoch 51/100\n",
            "32/32 [==============================] - 2s 48ms/step - loss: 0.2501 - accuracy: 0.4873 - val_loss: 0.2500 - val_accuracy: 0.5068\n",
            "Epoch 52/100\n",
            "32/32 [==============================] - 2s 49ms/step - loss: 0.2500 - accuracy: 0.5037 - val_loss: 0.2500 - val_accuracy: 0.5068\n",
            "Epoch 53/100\n",
            "32/32 [==============================] - 2s 49ms/step - loss: 0.2499 - accuracy: 0.5210 - val_loss: 0.2500 - val_accuracy: 0.5068\n",
            "Epoch 54/100\n",
            "32/32 [==============================] - 2s 49ms/step - loss: 0.2500 - accuracy: 0.5062 - val_loss: 0.2500 - val_accuracy: 0.5068\n",
            "Epoch 55/100\n",
            "32/32 [==============================] - 2s 49ms/step - loss: 0.2499 - accuracy: 0.5132 - val_loss: 0.2500 - val_accuracy: 0.5068\n",
            "Epoch 56/100\n",
            "32/32 [==============================] - 2s 50ms/step - loss: 0.2502 - accuracy: 0.4767 - val_loss: 0.2500 - val_accuracy: 0.5068\n",
            "Epoch 57/100\n",
            "32/32 [==============================] - 2s 50ms/step - loss: 0.2499 - accuracy: 0.5179 - val_loss: 0.2500 - val_accuracy: 0.5068\n",
            "Epoch 58/100\n",
            "32/32 [==============================] - 2s 49ms/step - loss: 0.2501 - accuracy: 0.4851 - val_loss: 0.2500 - val_accuracy: 0.5068\n",
            "Epoch 59/100\n",
            "32/32 [==============================] - 2s 49ms/step - loss: 0.2499 - accuracy: 0.5156 - val_loss: 0.2500 - val_accuracy: 0.5068\n",
            "Epoch 60/100\n",
            "32/32 [==============================] - 2s 48ms/step - loss: 0.2501 - accuracy: 0.4943 - val_loss: 0.2500 - val_accuracy: 0.5068\n",
            "Epoch 61/100\n",
            "32/32 [==============================] - 2s 48ms/step - loss: 0.2500 - accuracy: 0.4997 - val_loss: 0.2500 - val_accuracy: 0.5068\n",
            "Epoch 62/100\n",
            "32/32 [==============================] - 2s 49ms/step - loss: 0.2500 - accuracy: 0.5096 - val_loss: 0.2500 - val_accuracy: 0.5068\n",
            "Epoch 63/100\n",
            "32/32 [==============================] - 2s 48ms/step - loss: 0.2501 - accuracy: 0.4814 - val_loss: 0.2500 - val_accuracy: 0.5068\n",
            "Epoch 64/100\n",
            "32/32 [==============================] - 2s 48ms/step - loss: 0.2500 - accuracy: 0.5049 - val_loss: 0.2500 - val_accuracy: 0.5068\n",
            "Epoch 65/100\n",
            "32/32 [==============================] - 2s 49ms/step - loss: 0.2501 - accuracy: 0.4938 - val_loss: 0.2500 - val_accuracy: 0.5068\n",
            "Epoch 66/100\n",
            "32/32 [==============================] - 2s 48ms/step - loss: 0.2500 - accuracy: 0.5003 - val_loss: 0.2500 - val_accuracy: 0.5068\n",
            "Epoch 67/100\n",
            "32/32 [==============================] - 2s 49ms/step - loss: 0.2500 - accuracy: 0.5003 - val_loss: 0.2500 - val_accuracy: 0.5068\n",
            "Epoch 68/100\n",
            "32/32 [==============================] - 2s 50ms/step - loss: 0.2499 - accuracy: 0.5162 - val_loss: 0.2500 - val_accuracy: 0.5068\n",
            "Epoch 69/100\n",
            "32/32 [==============================] - 2s 51ms/step - loss: 0.2500 - accuracy: 0.5042 - val_loss: 0.2500 - val_accuracy: 0.5068\n",
            "Epoch 70/100\n",
            "32/32 [==============================] - 2s 77ms/step - loss: 0.2499 - accuracy: 0.5246 - val_loss: 0.2500 - val_accuracy: 0.5068\n",
            "Epoch 71/100\n",
            "32/32 [==============================] - 2s 56ms/step - loss: 0.2500 - accuracy: 0.4974 - val_loss: 0.2500 - val_accuracy: 0.5068\n",
            "Epoch 72/100\n",
            "32/32 [==============================] - 2s 52ms/step - loss: 0.2500 - accuracy: 0.4978 - val_loss: 0.2500 - val_accuracy: 0.5068\n",
            "Epoch 73/100\n",
            "32/32 [==============================] - 2s 48ms/step - loss: 0.2500 - accuracy: 0.5075 - val_loss: 0.2500 - val_accuracy: 0.5068\n",
            "Epoch 74/100\n",
            "32/32 [==============================] - 2s 52ms/step - loss: 0.2499 - accuracy: 0.5267 - val_loss: 0.2500 - val_accuracy: 0.5068\n",
            "Epoch 75/100\n",
            "32/32 [==============================] - 2s 50ms/step - loss: 0.2502 - accuracy: 0.4758 - val_loss: 0.2500 - val_accuracy: 0.5068\n",
            "Epoch 76/100\n",
            "32/32 [==============================] - 2s 53ms/step - loss: 0.2500 - accuracy: 0.5085 - val_loss: 0.2500 - val_accuracy: 0.5068\n",
            "Epoch 77/100\n",
            "32/32 [==============================] - 2s 50ms/step - loss: 0.2500 - accuracy: 0.5071 - val_loss: 0.2500 - val_accuracy: 0.5068\n",
            "Epoch 78/100\n",
            "32/32 [==============================] - 2s 49ms/step - loss: 0.2499 - accuracy: 0.5152 - val_loss: 0.2500 - val_accuracy: 0.5068\n",
            "Epoch 79/100\n",
            "32/32 [==============================] - 2s 49ms/step - loss: 0.2501 - accuracy: 0.4905 - val_loss: 0.2500 - val_accuracy: 0.5068\n",
            "Epoch 80/100\n",
            "32/32 [==============================] - 2s 52ms/step - loss: 0.2501 - accuracy: 0.4923 - val_loss: 0.2500 - val_accuracy: 0.5068\n",
            "Epoch 81/100\n",
            "32/32 [==============================] - 2s 50ms/step - loss: 0.2499 - accuracy: 0.5160 - val_loss: 0.2500 - val_accuracy: 0.5068\n",
            "Epoch 82/100\n",
            "32/32 [==============================] - 2s 49ms/step - loss: 0.2502 - accuracy: 0.4786 - val_loss: 0.2500 - val_accuracy: 0.5068\n",
            "Epoch 83/100\n",
            "32/32 [==============================] - 2s 48ms/step - loss: 0.2500 - accuracy: 0.5066 - val_loss: 0.2500 - val_accuracy: 0.5068\n",
            "Epoch 84/100\n",
            "32/32 [==============================] - 2s 49ms/step - loss: 0.2500 - accuracy: 0.5071 - val_loss: 0.2500 - val_accuracy: 0.5068\n",
            "Epoch 85/100\n",
            "32/32 [==============================] - 2s 53ms/step - loss: 0.2500 - accuracy: 0.5057 - val_loss: 0.2500 - val_accuracy: 0.5068\n",
            "Epoch 86/100\n",
            "32/32 [==============================] - 2s 49ms/step - loss: 0.2501 - accuracy: 0.4871 - val_loss: 0.2500 - val_accuracy: 0.5068\n",
            "Epoch 87/100\n",
            "32/32 [==============================] - 2s 51ms/step - loss: 0.2500 - accuracy: 0.5108 - val_loss: 0.2500 - val_accuracy: 0.5068\n",
            "Epoch 88/100\n",
            "32/32 [==============================] - 2s 50ms/step - loss: 0.2500 - accuracy: 0.5100 - val_loss: 0.2500 - val_accuracy: 0.5068\n",
            "Epoch 89/100\n",
            "32/32 [==============================] - 2s 50ms/step - loss: 0.2500 - accuracy: 0.5060 - val_loss: 0.2500 - val_accuracy: 0.5068\n",
            "Epoch 90/100\n",
            "32/32 [==============================] - 2s 50ms/step - loss: 0.2501 - accuracy: 0.4925 - val_loss: 0.2500 - val_accuracy: 0.5068\n",
            "Epoch 91/100\n",
            "32/32 [==============================] - 2s 49ms/step - loss: 0.2499 - accuracy: 0.5267 - val_loss: 0.2500 - val_accuracy: 0.5068\n",
            "Epoch 92/100\n",
            "32/32 [==============================] - 2s 53ms/step - loss: 0.2500 - accuracy: 0.4990 - val_loss: 0.2500 - val_accuracy: 0.5068\n",
            "Epoch 93/100\n",
            "32/32 [==============================] - 2s 50ms/step - loss: 0.2500 - accuracy: 0.5067 - val_loss: 0.2500 - val_accuracy: 0.5068\n",
            "Epoch 94/100\n",
            "32/32 [==============================] - 2s 50ms/step - loss: 0.2501 - accuracy: 0.4825 - val_loss: 0.2500 - val_accuracy: 0.5068\n",
            "Epoch 95/100\n",
            "32/32 [==============================] - 2s 49ms/step - loss: 0.2500 - accuracy: 0.5020 - val_loss: 0.2500 - val_accuracy: 0.5068\n",
            "Epoch 96/100\n",
            "32/32 [==============================] - 2s 49ms/step - loss: 0.2499 - accuracy: 0.5148 - val_loss: 0.2500 - val_accuracy: 0.5068\n",
            "Epoch 97/100\n",
            "32/32 [==============================] - 2s 50ms/step - loss: 0.2500 - accuracy: 0.4964 - val_loss: 0.2500 - val_accuracy: 0.5068\n",
            "Epoch 98/100\n",
            "32/32 [==============================] - 2s 48ms/step - loss: 0.2499 - accuracy: 0.5202 - val_loss: 0.2500 - val_accuracy: 0.5068\n",
            "Epoch 99/100\n",
            "32/32 [==============================] - 2s 49ms/step - loss: 0.2501 - accuracy: 0.4956 - val_loss: 0.2500 - val_accuracy: 0.5068\n",
            "Epoch 100/100\n",
            "32/32 [==============================] - 2s 50ms/step - loss: 0.2501 - accuracy: 0.4864 - val_loss: 0.2500 - val_accuracy: 0.5068\n"
          ],
          "name": "stdout"
        }
      ]
    },
    {
      "cell_type": "code",
      "metadata": {
        "id": "N4KyEeymvx33",
        "colab": {
          "base_uri": "https://localhost:8080/",
          "height": 573
        },
        "outputId": "9f5406ae-2d7a-413f-f714-8f05d8d6829a"
      },
      "source": [
        "plt.plot(hist_3.history['loss'])\n",
        "plt.plot(hist_3.history['val_loss'])\n",
        "plt.title('Model loss')\n",
        "plt.ylabel('Loss')\n",
        "plt.xlabel('Epoch')\n",
        "plt.legend(['Train', 'Val'], loc='upper right')\n",
        "plt.ylim(top=1.2, bottom=0)\n",
        "plt.show()\n",
        "\n",
        "plt.plot(hist_3.history['accuracy'])\n",
        "plt.plot(hist_3.history['val_accuracy'])\n",
        "plt.title('Model accuracy')\n",
        "plt.ylabel('Accuracy')\n",
        "plt.xlabel('Epoch')\n",
        "plt.legend(['Train', 'Val'], loc='lower right')\n",
        "plt.show()"
      ],
      "execution_count": 49,
      "outputs": [
        {
          "output_type": "display_data",
          "data": {
            "image/png": "[encoded data removed]",
            "text/plain": [
              "<Figure size 432x288 with 1 Axes>"
            ]
          },
          "metadata": {
            "tags": [],
            "needs_background": "light"
          }
        },
        {
          "output_type": "display_data",
          "data": {
            "image/png": "[encoded data removed]",
            "text/plain": [
              "<Figure size 432x288 with 1 Axes>"
            ]
          },
          "metadata": {
            "tags": [],
            "needs_background": "light"
          }
        }
      ]
    }
  ]
}