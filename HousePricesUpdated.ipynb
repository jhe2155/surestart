{
  "nbformat": 4,
  "nbformat_minor": 0,
  "metadata": {
    "colab": {
      "name": "HousePrices.ipynb",
      "provenance": []
    },
    "kernelspec": {
      "name": "python3",
      "display_name": "Python 3"
    }
  },
  "cells": [
    {
      "cell_type": "code",
      "metadata": {
        "colab": {
          "resources": {
            "http://localhost:8080/nbextensions/google.colab/files.js": {
              "data": "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",
              "ok": true,
              "headers": [
                [
                  "content-type",
                  "application/javascript"
                ]
              ],
              "status": 200,
              "status_text": ""
            }
          },
          "base_uri": "https://localhost:8080/",
          "height": 72
        },
        "id": "kroxwZVF3As2",
        "outputId": "a4af6329-3d72-4ede-de51-bad76349f825"
      },
      "source": [
        "from google.colab import files\n",
        "uploaded = files.upload()"
      ],
      "execution_count": 2,
      "outputs": [
        {
          "output_type": "display_data",
          "data": {
            "text/html": [
              "\n",
              "     <input type=\"file\" id=\"files-bb979149-3c20-4b27-8b45-2da259598325\" name=\"files[]\" multiple disabled\n",
              "        style=\"border:none\" />\n",
              "     <output id=\"result-bb979149-3c20-4b27-8b45-2da259598325\">\n",
              "      Upload widget is only available when the cell has been executed in the\n",
              "      current browser session. Please rerun this cell to enable.\n",
              "      </output>\n",
              "      <script src=\"/nbextensions/google.colab/files.js\"></script> "
            ],
            "text/plain": [
              "<IPython.core.display.HTML object>"
            ]
          },
          "metadata": {
            "tags": []
          }
        },
        {
          "output_type": "stream",
          "text": [
            "Saving housepricedata.csv to housepricedata.csv\n"
          ],
          "name": "stdout"
        }
      ]
    },
    {
      "cell_type": "code",
      "metadata": {
        "colab": {
          "base_uri": "https://localhost:8080/",
          "height": 204
        },
        "id": "KRrpxN0d31CT",
        "outputId": "93dd9727-5cf4-420d-a9f2-ad1c81059b63"
      },
      "source": [
        "import pandas as pd \n",
        "data = pd.read_csv(\"housepricedata.csv\") #load into dataframe\n",
        "data.head() #check out top of dataframe"
      ],
      "execution_count": 10,
      "outputs": [
        {
          "output_type": "execute_result",
          "data": {
            "text/html": [
              "<div>\n",
              "<style scoped>\n",
              "    .dataframe tbody tr th:only-of-type {\n",
              "        vertical-align: middle;\n",
              "    }\n",
              "\n",
              "    .dataframe tbody tr th {\n",
              "        vertical-align: top;\n",
              "    }\n",
              "\n",
              "    .dataframe thead th {\n",
              "        text-align: right;\n",
              "    }\n",
              "</style>\n",
              "<table border=\"1\" class=\"dataframe\">\n",
              "  <thead>\n",
              "    <tr style=\"text-align: right;\">\n",
              "      <th></th>\n",
              "      <th>LotArea</th>\n",
              "      <th>OverallQual</th>\n",
              "      <th>OverallCond</th>\n",
              "      <th>TotalBsmtSF</th>\n",
              "      <th>FullBath</th>\n",
              "      <th>HalfBath</th>\n",
              "      <th>BedroomAbvGr</th>\n",
              "      <th>TotRmsAbvGrd</th>\n",
              "      <th>Fireplaces</th>\n",
              "      <th>GarageArea</th>\n",
              "      <th>AboveMedianPrice</th>\n",
              "    </tr>\n",
              "  </thead>\n",
              "  <tbody>\n",
              "    <tr>\n",
              "      <th>0</th>\n",
              "      <td>8450</td>\n",
              "      <td>7</td>\n",
              "      <td>5</td>\n",
              "      <td>856</td>\n",
              "      <td>2</td>\n",
              "      <td>1</td>\n",
              "      <td>3</td>\n",
              "      <td>8</td>\n",
              "      <td>0</td>\n",
              "      <td>548</td>\n",
              "      <td>1</td>\n",
              "    </tr>\n",
              "    <tr>\n",
              "      <th>1</th>\n",
              "      <td>9600</td>\n",
              "      <td>6</td>\n",
              "      <td>8</td>\n",
              "      <td>1262</td>\n",
              "      <td>2</td>\n",
              "      <td>0</td>\n",
              "      <td>3</td>\n",
              "      <td>6</td>\n",
              "      <td>1</td>\n",
              "      <td>460</td>\n",
              "      <td>1</td>\n",
              "    </tr>\n",
              "    <tr>\n",
              "      <th>2</th>\n",
              "      <td>11250</td>\n",
              "      <td>7</td>\n",
              "      <td>5</td>\n",
              "      <td>920</td>\n",
              "      <td>2</td>\n",
              "      <td>1</td>\n",
              "      <td>3</td>\n",
              "      <td>6</td>\n",
              "      <td>1</td>\n",
              "      <td>608</td>\n",
              "      <td>1</td>\n",
              "    </tr>\n",
              "    <tr>\n",
              "      <th>3</th>\n",
              "      <td>9550</td>\n",
              "      <td>7</td>\n",
              "      <td>5</td>\n",
              "      <td>756</td>\n",
              "      <td>1</td>\n",
              "      <td>0</td>\n",
              "      <td>3</td>\n",
              "      <td>7</td>\n",
              "      <td>1</td>\n",
              "      <td>642</td>\n",
              "      <td>0</td>\n",
              "    </tr>\n",
              "    <tr>\n",
              "      <th>4</th>\n",
              "      <td>14260</td>\n",
              "      <td>8</td>\n",
              "      <td>5</td>\n",
              "      <td>1145</td>\n",
              "      <td>2</td>\n",
              "      <td>1</td>\n",
              "      <td>4</td>\n",
              "      <td>9</td>\n",
              "      <td>1</td>\n",
              "      <td>836</td>\n",
              "      <td>1</td>\n",
              "    </tr>\n",
              "  </tbody>\n",
              "</table>\n",
              "</div>"
            ],
            "text/plain": [
              "   LotArea  OverallQual  OverallCond  ...  Fireplaces  GarageArea  AboveMedianPrice\n",
              "0     8450            7            5  ...           0         548                 1\n",
              "1     9600            6            8  ...           1         460                 1\n",
              "2    11250            7            5  ...           1         608                 1\n",
              "3     9550            7            5  ...           1         642                 0\n",
              "4    14260            8            5  ...           1         836                 1\n",
              "\n",
              "[5 rows x 11 columns]"
            ]
          },
          "metadata": {
            "tags": []
          },
          "execution_count": 10
        }
      ]
    },
    {
      "cell_type": "code",
      "metadata": {
        "colab": {
          "base_uri": "https://localhost:8080/"
        },
        "id": "sAQGdoBL4Nk6",
        "outputId": "f20f0327-96eb-4b11-b596-91cbf5955aa8"
      },
      "source": [
        "arr = data.values #turn into array\n",
        "\n",
        "xvalues = arr[:,0:10]\n",
        "yvalues = arr[:,10]\n",
        "\n",
        "print(xvalues)"
      ],
      "execution_count": 12,
      "outputs": [
        {
          "output_type": "stream",
          "text": [
            "[[ 8450     7     5 ...     8     0   548]\n",
            " [ 9600     6     8 ...     6     1   460]\n",
            " [11250     7     5 ...     6     1   608]\n",
            " ...\n",
            " [ 9042     7     9 ...     9     2   252]\n",
            " [ 9717     5     6 ...     5     0   240]\n",
            " [ 9937     5     6 ...     6     0   276]]\n"
          ],
          "name": "stdout"
        }
      ]
    },
    {
      "cell_type": "code",
      "metadata": {
        "colab": {
          "base_uri": "https://localhost:8080/"
        },
        "id": "YOaOPWmz5Czz",
        "outputId": "6b4a9f70-3077-4085-8a81-0010e2628fae"
      },
      "source": [
        "print(yvalues)"
      ],
      "execution_count": 13,
      "outputs": [
        {
          "output_type": "stream",
          "text": [
            "[1 1 1 ... 1 0 0]\n"
          ],
          "name": "stdout"
        }
      ]
    },
    {
      "cell_type": "code",
      "metadata": {
        "colab": {
          "base_uri": "https://localhost:8080/"
        },
        "id": "Z0q8sKCH5ldN",
        "outputId": "143b7af7-d8e3-4db2-eadd-03dfe1a5e1bd"
      },
      "source": [
        "from sklearn import preprocessing\n",
        "\n",
        "min_max_scaler = preprocessing.MinMaxScaler()\n",
        "xvalues_scale = min_max_scaler.fit_transform(xvalues)\n",
        "\n",
        "xvalues_scale"
      ],
      "execution_count": 14,
      "outputs": [
        {
          "output_type": "execute_result",
          "data": {
            "text/plain": [
              "array([[0.0334198 , 0.66666667, 0.5       , ..., 0.5       , 0.        ,\n",
              "        0.3864598 ],\n",
              "       [0.03879502, 0.55555556, 0.875     , ..., 0.33333333, 0.33333333,\n",
              "        0.32440056],\n",
              "       [0.04650728, 0.66666667, 0.5       , ..., 0.33333333, 0.33333333,\n",
              "        0.42877292],\n",
              "       ...,\n",
              "       [0.03618687, 0.66666667, 1.        , ..., 0.58333333, 0.66666667,\n",
              "        0.17771509],\n",
              "       [0.03934189, 0.44444444, 0.625     , ..., 0.25      , 0.        ,\n",
              "        0.16925247],\n",
              "       [0.04037019, 0.44444444, 0.625     , ..., 0.33333333, 0.        ,\n",
              "        0.19464034]])"
            ]
          },
          "metadata": {
            "tags": []
          },
          "execution_count": 14
        }
      ]
    },
    {
      "cell_type": "code",
      "metadata": {
        "id": "tKGO8fJx5NR9"
      },
      "source": [
        "from sklearn.model_selection import train_test_split\n",
        "#splits data into train and (val and test) then splits val and tests apart\n",
        "xvalues_train, xvalues_val_and_test, yvalues_train, yvalues_val_and_test = train_test_split(xvalues_scale, yvalues, test_size=0.3)\n",
        "xvalues_val, xvalues_test, yvalues_val, yvalues_test = train_test_split(xvalues_val_and_test, yvalues_val_and_test, test_size=0.5)"
      ],
      "execution_count": 15,
      "outputs": []
    },
    {
      "cell_type": "code",
      "metadata": {
        "id": "mbuf856g49mx"
      },
      "source": [
        "\n",
        "from keras.models import Sequential\n",
        "from keras.layers import Dense"
      ],
      "execution_count": 16,
      "outputs": []
    },
    {
      "cell_type": "code",
      "metadata": {
        "id": "pyXwWf6w6bQr"
      },
      "source": [
        "model = Sequential([\n",
        "    Dense(32, activation='relu', input_shape=(10,)),\n",
        "    Dense(32, activation='relu'),\n",
        "    Dense(1, activation='sigmoid'),\n",
        "])"
      ],
      "execution_count": 18,
      "outputs": []
    },
    {
      "cell_type": "code",
      "metadata": {
        "id": "K-ePh0Ty6qAo"
      },
      "source": [
        "model.compile(optimizer='sgd',\n",
        "              loss='binary_crossentropy',\n",
        "              metrics=['accuracy'])"
      ],
      "execution_count": 19,
      "outputs": []
    },
    {
      "cell_type": "code",
      "metadata": {
        "colab": {
          "base_uri": "https://localhost:8080/"
        },
        "id": "CAX0zeZF7BI7",
        "outputId": "9a2e9020-1214-42ed-efcc-f4ab46cc7345"
      },
      "source": [
        "hist = model.fit(xvalues_train, yvalues_train,\n",
        "          batch_size=32, epochs=100,\n",
        "          validation_data=(xvalues_val, yvalues_val))"
      ],
      "execution_count": 20,
      "outputs": [
        {
          "output_type": "stream",
          "text": [
            "Epoch 1/100\n",
            "32/32 [==============================] - 1s 14ms/step - loss: 0.6892 - accuracy: 0.5372 - val_loss: 0.6817 - val_accuracy: 0.7397\n",
            "Epoch 2/100\n",
            "32/32 [==============================] - 0s 2ms/step - loss: 0.6830 - accuracy: 0.7162 - val_loss: 0.6749 - val_accuracy: 0.7717\n",
            "Epoch 3/100\n",
            "32/32 [==============================] - 0s 2ms/step - loss: 0.6757 - accuracy: 0.7499 - val_loss: 0.6692 - val_accuracy: 0.7397\n",
            "Epoch 4/100\n",
            "32/32 [==============================] - 0s 3ms/step - loss: 0.6703 - accuracy: 0.7194 - val_loss: 0.6643 - val_accuracy: 0.7078\n",
            "Epoch 5/100\n",
            "32/32 [==============================] - 0s 3ms/step - loss: 0.6668 - accuracy: 0.6833 - val_loss: 0.6602 - val_accuracy: 0.7169\n",
            "Epoch 6/100\n",
            "32/32 [==============================] - 0s 3ms/step - loss: 0.6614 - accuracy: 0.7129 - val_loss: 0.6563 - val_accuracy: 0.7397\n",
            "Epoch 7/100\n",
            "32/32 [==============================] - 0s 3ms/step - loss: 0.6592 - accuracy: 0.7450 - val_loss: 0.6523 - val_accuracy: 0.7443\n",
            "Epoch 8/100\n",
            "32/32 [==============================] - 0s 3ms/step - loss: 0.6538 - accuracy: 0.7417 - val_loss: 0.6482 - val_accuracy: 0.7671\n",
            "Epoch 9/100\n",
            "32/32 [==============================] - 0s 3ms/step - loss: 0.6511 - accuracy: 0.7458 - val_loss: 0.6440 - val_accuracy: 0.7854\n",
            "Epoch 10/100\n",
            "32/32 [==============================] - 0s 3ms/step - loss: 0.6459 - accuracy: 0.7700 - val_loss: 0.6395 - val_accuracy: 0.7854\n",
            "Epoch 11/100\n",
            "32/32 [==============================] - 0s 3ms/step - loss: 0.6413 - accuracy: 0.7869 - val_loss: 0.6347 - val_accuracy: 0.7900\n",
            "Epoch 12/100\n",
            "32/32 [==============================] - 0s 2ms/step - loss: 0.6404 - accuracy: 0.7799 - val_loss: 0.6295 - val_accuracy: 0.8128\n",
            "Epoch 13/100\n",
            "32/32 [==============================] - 0s 2ms/step - loss: 0.6329 - accuracy: 0.8226 - val_loss: 0.6239 - val_accuracy: 0.8265\n",
            "Epoch 14/100\n",
            "32/32 [==============================] - 0s 2ms/step - loss: 0.6277 - accuracy: 0.8305 - val_loss: 0.6179 - val_accuracy: 0.8311\n",
            "Epoch 15/100\n",
            "32/32 [==============================] - 0s 3ms/step - loss: 0.6206 - accuracy: 0.8409 - val_loss: 0.6116 - val_accuracy: 0.8721\n",
            "Epoch 16/100\n",
            "32/32 [==============================] - 0s 3ms/step - loss: 0.6171 - accuracy: 0.8434 - val_loss: 0.6049 - val_accuracy: 0.8676\n",
            "Epoch 17/100\n",
            "32/32 [==============================] - 0s 3ms/step - loss: 0.6093 - accuracy: 0.8460 - val_loss: 0.5977 - val_accuracy: 0.8721\n",
            "Epoch 18/100\n",
            "32/32 [==============================] - 0s 3ms/step - loss: 0.6000 - accuracy: 0.8453 - val_loss: 0.5902 - val_accuracy: 0.8721\n",
            "Epoch 19/100\n",
            "32/32 [==============================] - 0s 3ms/step - loss: 0.5999 - accuracy: 0.8536 - val_loss: 0.5822 - val_accuracy: 0.8676\n",
            "Epoch 20/100\n",
            "32/32 [==============================] - 0s 2ms/step - loss: 0.5912 - accuracy: 0.8284 - val_loss: 0.5738 - val_accuracy: 0.8721\n",
            "Epoch 21/100\n",
            "32/32 [==============================] - 0s 3ms/step - loss: 0.5708 - accuracy: 0.8839 - val_loss: 0.5649 - val_accuracy: 0.8721\n",
            "Epoch 22/100\n",
            "32/32 [==============================] - 0s 3ms/step - loss: 0.5678 - accuracy: 0.8779 - val_loss: 0.5556 - val_accuracy: 0.8721\n",
            "Epoch 23/100\n",
            "32/32 [==============================] - 0s 3ms/step - loss: 0.5588 - accuracy: 0.8690 - val_loss: 0.5459 - val_accuracy: 0.8767\n",
            "Epoch 24/100\n",
            "32/32 [==============================] - 0s 2ms/step - loss: 0.5468 - accuracy: 0.8839 - val_loss: 0.5359 - val_accuracy: 0.8721\n",
            "Epoch 25/100\n",
            "32/32 [==============================] - 0s 2ms/step - loss: 0.5447 - accuracy: 0.8712 - val_loss: 0.5256 - val_accuracy: 0.8676\n",
            "Epoch 26/100\n",
            "32/32 [==============================] - 0s 2ms/step - loss: 0.5207 - accuracy: 0.8853 - val_loss: 0.5151 - val_accuracy: 0.8676\n",
            "Epoch 27/100\n",
            "32/32 [==============================] - 0s 3ms/step - loss: 0.5230 - accuracy: 0.8715 - val_loss: 0.5045 - val_accuracy: 0.8721\n",
            "Epoch 28/100\n",
            "32/32 [==============================] - 0s 2ms/step - loss: 0.5154 - accuracy: 0.8603 - val_loss: 0.4938 - val_accuracy: 0.8721\n",
            "Epoch 29/100\n",
            "32/32 [==============================] - 0s 3ms/step - loss: 0.5047 - accuracy: 0.8605 - val_loss: 0.4831 - val_accuracy: 0.8767\n",
            "Epoch 30/100\n",
            "32/32 [==============================] - 0s 3ms/step - loss: 0.5038 - accuracy: 0.8608 - val_loss: 0.4724 - val_accuracy: 0.8767\n",
            "Epoch 31/100\n",
            "32/32 [==============================] - 0s 3ms/step - loss: 0.4832 - accuracy: 0.8644 - val_loss: 0.4618 - val_accuracy: 0.8721\n",
            "Epoch 32/100\n",
            "32/32 [==============================] - 0s 3ms/step - loss: 0.4851 - accuracy: 0.8502 - val_loss: 0.4515 - val_accuracy: 0.8767\n",
            "Epoch 33/100\n",
            "32/32 [==============================] - 0s 3ms/step - loss: 0.4782 - accuracy: 0.8695 - val_loss: 0.4414 - val_accuracy: 0.8767\n",
            "Epoch 34/100\n",
            "32/32 [==============================] - 0s 2ms/step - loss: 0.4488 - accuracy: 0.8761 - val_loss: 0.4316 - val_accuracy: 0.8767\n",
            "Epoch 35/100\n",
            "32/32 [==============================] - 0s 3ms/step - loss: 0.4482 - accuracy: 0.8633 - val_loss: 0.4221 - val_accuracy: 0.8767\n",
            "Epoch 36/100\n",
            "32/32 [==============================] - 0s 2ms/step - loss: 0.4438 - accuracy: 0.8744 - val_loss: 0.4129 - val_accuracy: 0.8767\n",
            "Epoch 37/100\n",
            "32/32 [==============================] - 0s 3ms/step - loss: 0.4369 - accuracy: 0.8735 - val_loss: 0.4043 - val_accuracy: 0.8721\n",
            "Epoch 38/100\n",
            "32/32 [==============================] - 0s 3ms/step - loss: 0.4188 - accuracy: 0.8681 - val_loss: 0.3958 - val_accuracy: 0.8721\n",
            "Epoch 39/100\n",
            "32/32 [==============================] - 0s 3ms/step - loss: 0.4215 - accuracy: 0.8595 - val_loss: 0.3878 - val_accuracy: 0.8721\n",
            "Epoch 40/100\n",
            "32/32 [==============================] - 0s 3ms/step - loss: 0.3871 - accuracy: 0.8735 - val_loss: 0.3810 - val_accuracy: 0.8676\n",
            "Epoch 41/100\n",
            "32/32 [==============================] - 0s 3ms/step - loss: 0.3971 - accuracy: 0.8872 - val_loss: 0.3730 - val_accuracy: 0.8767\n",
            "Epoch 42/100\n",
            "32/32 [==============================] - 0s 2ms/step - loss: 0.3914 - accuracy: 0.8671 - val_loss: 0.3672 - val_accuracy: 0.8676\n",
            "Epoch 43/100\n",
            "32/32 [==============================] - 0s 2ms/step - loss: 0.3860 - accuracy: 0.8694 - val_loss: 0.3602 - val_accuracy: 0.8767\n",
            "Epoch 44/100\n",
            "32/32 [==============================] - 0s 3ms/step - loss: 0.3828 - accuracy: 0.8643 - val_loss: 0.3543 - val_accuracy: 0.8767\n",
            "Epoch 45/100\n",
            "32/32 [==============================] - 0s 3ms/step - loss: 0.3782 - accuracy: 0.8726 - val_loss: 0.3491 - val_accuracy: 0.8721\n",
            "Epoch 46/100\n",
            "32/32 [==============================] - 0s 2ms/step - loss: 0.3745 - accuracy: 0.8598 - val_loss: 0.3441 - val_accuracy: 0.8676\n",
            "Epoch 47/100\n",
            "32/32 [==============================] - 0s 3ms/step - loss: 0.3610 - accuracy: 0.8774 - val_loss: 0.3389 - val_accuracy: 0.8721\n",
            "Epoch 48/100\n",
            "32/32 [==============================] - 0s 3ms/step - loss: 0.3541 - accuracy: 0.8789 - val_loss: 0.3361 - val_accuracy: 0.8630\n",
            "Epoch 49/100\n",
            "32/32 [==============================] - 0s 2ms/step - loss: 0.3437 - accuracy: 0.8759 - val_loss: 0.3312 - val_accuracy: 0.8584\n",
            "Epoch 50/100\n",
            "32/32 [==============================] - 0s 2ms/step - loss: 0.3457 - accuracy: 0.8758 - val_loss: 0.3269 - val_accuracy: 0.8584\n",
            "Epoch 51/100\n",
            "32/32 [==============================] - 0s 2ms/step - loss: 0.3799 - accuracy: 0.8537 - val_loss: 0.3225 - val_accuracy: 0.8630\n",
            "Epoch 52/100\n",
            "32/32 [==============================] - 0s 2ms/step - loss: 0.3308 - accuracy: 0.8858 - val_loss: 0.3195 - val_accuracy: 0.8630\n",
            "Epoch 53/100\n",
            "32/32 [==============================] - 0s 3ms/step - loss: 0.3492 - accuracy: 0.8632 - val_loss: 0.3159 - val_accuracy: 0.8676\n",
            "Epoch 54/100\n",
            "32/32 [==============================] - 0s 3ms/step - loss: 0.3264 - accuracy: 0.8760 - val_loss: 0.3141 - val_accuracy: 0.8539\n",
            "Epoch 55/100\n",
            "32/32 [==============================] - 0s 3ms/step - loss: 0.3477 - accuracy: 0.8702 - val_loss: 0.3101 - val_accuracy: 0.8630\n",
            "Epoch 56/100\n",
            "32/32 [==============================] - 0s 3ms/step - loss: 0.3415 - accuracy: 0.8717 - val_loss: 0.3078 - val_accuracy: 0.8676\n",
            "Epoch 57/100\n",
            "32/32 [==============================] - 0s 3ms/step - loss: 0.3334 - accuracy: 0.8639 - val_loss: 0.3055 - val_accuracy: 0.8676\n",
            "Epoch 58/100\n",
            "32/32 [==============================] - 0s 3ms/step - loss: 0.3193 - accuracy: 0.8770 - val_loss: 0.3039 - val_accuracy: 0.8630\n",
            "Epoch 59/100\n",
            "32/32 [==============================] - 0s 3ms/step - loss: 0.3254 - accuracy: 0.8801 - val_loss: 0.3009 - val_accuracy: 0.8676\n",
            "Epoch 60/100\n",
            "32/32 [==============================] - 0s 3ms/step - loss: 0.2943 - accuracy: 0.8911 - val_loss: 0.3002 - val_accuracy: 0.8539\n",
            "Epoch 61/100\n",
            "32/32 [==============================] - 0s 3ms/step - loss: 0.3291 - accuracy: 0.8808 - val_loss: 0.2977 - val_accuracy: 0.8630\n",
            "Epoch 62/100\n",
            "32/32 [==============================] - 0s 3ms/step - loss: 0.3241 - accuracy: 0.8779 - val_loss: 0.2954 - val_accuracy: 0.8630\n",
            "Epoch 63/100\n",
            "32/32 [==============================] - 0s 3ms/step - loss: 0.3148 - accuracy: 0.8833 - val_loss: 0.2952 - val_accuracy: 0.8539\n",
            "Epoch 64/100\n",
            "32/32 [==============================] - 0s 2ms/step - loss: 0.3167 - accuracy: 0.8775 - val_loss: 0.2922 - val_accuracy: 0.8676\n",
            "Epoch 65/100\n",
            "32/32 [==============================] - 0s 2ms/step - loss: 0.2946 - accuracy: 0.8947 - val_loss: 0.2908 - val_accuracy: 0.8676\n",
            "Epoch 66/100\n",
            "32/32 [==============================] - 0s 3ms/step - loss: 0.3152 - accuracy: 0.8711 - val_loss: 0.2892 - val_accuracy: 0.8676\n",
            "Epoch 67/100\n",
            "32/32 [==============================] - 0s 2ms/step - loss: 0.3143 - accuracy: 0.8826 - val_loss: 0.2881 - val_accuracy: 0.8676\n",
            "Epoch 68/100\n",
            "32/32 [==============================] - 0s 3ms/step - loss: 0.2865 - accuracy: 0.8924 - val_loss: 0.2866 - val_accuracy: 0.8630\n",
            "Epoch 69/100\n",
            "32/32 [==============================] - 0s 3ms/step - loss: 0.3295 - accuracy: 0.8734 - val_loss: 0.2857 - val_accuracy: 0.8630\n",
            "Epoch 70/100\n",
            "32/32 [==============================] - 0s 3ms/step - loss: 0.3104 - accuracy: 0.8726 - val_loss: 0.2844 - val_accuracy: 0.8676\n",
            "Epoch 71/100\n",
            "32/32 [==============================] - 0s 2ms/step - loss: 0.2873 - accuracy: 0.8908 - val_loss: 0.2838 - val_accuracy: 0.8630\n",
            "Epoch 72/100\n",
            "32/32 [==============================] - 0s 2ms/step - loss: 0.3071 - accuracy: 0.8897 - val_loss: 0.2821 - val_accuracy: 0.8676\n",
            "Epoch 73/100\n",
            "32/32 [==============================] - 0s 2ms/step - loss: 0.2786 - accuracy: 0.8982 - val_loss: 0.2820 - val_accuracy: 0.8630\n",
            "Epoch 74/100\n",
            "32/32 [==============================] - 0s 2ms/step - loss: 0.3162 - accuracy: 0.8857 - val_loss: 0.2811 - val_accuracy: 0.8630\n",
            "Epoch 75/100\n",
            "32/32 [==============================] - 0s 3ms/step - loss: 0.2921 - accuracy: 0.8960 - val_loss: 0.2793 - val_accuracy: 0.8630\n",
            "Epoch 76/100\n",
            "32/32 [==============================] - 0s 3ms/step - loss: 0.3229 - accuracy: 0.8735 - val_loss: 0.2796 - val_accuracy: 0.8676\n",
            "Epoch 77/100\n",
            "32/32 [==============================] - 0s 2ms/step - loss: 0.2869 - accuracy: 0.8957 - val_loss: 0.2789 - val_accuracy: 0.8721\n",
            "Epoch 78/100\n",
            "32/32 [==============================] - 0s 2ms/step - loss: 0.3015 - accuracy: 0.8877 - val_loss: 0.2784 - val_accuracy: 0.8676\n",
            "Epoch 79/100\n",
            "32/32 [==============================] - 0s 3ms/step - loss: 0.2885 - accuracy: 0.8976 - val_loss: 0.2765 - val_accuracy: 0.8676\n",
            "Epoch 80/100\n",
            "32/32 [==============================] - 0s 3ms/step - loss: 0.3353 - accuracy: 0.8629 - val_loss: 0.2745 - val_accuracy: 0.8630\n",
            "Epoch 81/100\n",
            "32/32 [==============================] - 0s 3ms/step - loss: 0.2726 - accuracy: 0.9006 - val_loss: 0.2738 - val_accuracy: 0.8630\n",
            "Epoch 82/100\n",
            "32/32 [==============================] - 0s 3ms/step - loss: 0.2582 - accuracy: 0.9068 - val_loss: 0.2748 - val_accuracy: 0.8721\n",
            "Epoch 83/100\n",
            "32/32 [==============================] - 0s 3ms/step - loss: 0.3046 - accuracy: 0.8815 - val_loss: 0.2729 - val_accuracy: 0.8721\n",
            "Epoch 84/100\n",
            "32/32 [==============================] - 0s 3ms/step - loss: 0.2934 - accuracy: 0.8954 - val_loss: 0.2716 - val_accuracy: 0.8584\n",
            "Epoch 85/100\n",
            "32/32 [==============================] - 0s 2ms/step - loss: 0.3008 - accuracy: 0.8842 - val_loss: 0.2706 - val_accuracy: 0.8630\n",
            "Epoch 86/100\n",
            "32/32 [==============================] - 0s 3ms/step - loss: 0.2966 - accuracy: 0.8864 - val_loss: 0.2701 - val_accuracy: 0.8630\n",
            "Epoch 87/100\n",
            "32/32 [==============================] - 0s 3ms/step - loss: 0.2759 - accuracy: 0.9071 - val_loss: 0.2708 - val_accuracy: 0.8721\n",
            "Epoch 88/100\n",
            "32/32 [==============================] - 0s 2ms/step - loss: 0.2520 - accuracy: 0.9154 - val_loss: 0.2700 - val_accuracy: 0.8721\n",
            "Epoch 89/100\n",
            "32/32 [==============================] - 0s 2ms/step - loss: 0.2590 - accuracy: 0.8987 - val_loss: 0.2698 - val_accuracy: 0.8721\n",
            "Epoch 90/100\n",
            "32/32 [==============================] - 0s 3ms/step - loss: 0.2769 - accuracy: 0.8961 - val_loss: 0.2680 - val_accuracy: 0.8676\n",
            "Epoch 91/100\n",
            "32/32 [==============================] - 0s 3ms/step - loss: 0.2846 - accuracy: 0.8940 - val_loss: 0.2667 - val_accuracy: 0.8676\n",
            "Epoch 92/100\n",
            "32/32 [==============================] - 0s 2ms/step - loss: 0.2622 - accuracy: 0.9053 - val_loss: 0.2671 - val_accuracy: 0.8676\n",
            "Epoch 93/100\n",
            "32/32 [==============================] - 0s 2ms/step - loss: 0.2566 - accuracy: 0.9050 - val_loss: 0.2664 - val_accuracy: 0.8676\n",
            "Epoch 94/100\n",
            "32/32 [==============================] - 0s 3ms/step - loss: 0.3017 - accuracy: 0.8925 - val_loss: 0.2647 - val_accuracy: 0.8630\n",
            "Epoch 95/100\n",
            "32/32 [==============================] - 0s 3ms/step - loss: 0.2915 - accuracy: 0.8877 - val_loss: 0.2658 - val_accuracy: 0.8676\n",
            "Epoch 96/100\n",
            "32/32 [==============================] - 0s 3ms/step - loss: 0.2976 - accuracy: 0.8877 - val_loss: 0.2647 - val_accuracy: 0.8676\n",
            "Epoch 97/100\n",
            "32/32 [==============================] - 0s 3ms/step - loss: 0.2517 - accuracy: 0.9105 - val_loss: 0.2650 - val_accuracy: 0.8676\n",
            "Epoch 98/100\n",
            "32/32 [==============================] - 0s 3ms/step - loss: 0.2555 - accuracy: 0.9062 - val_loss: 0.2649 - val_accuracy: 0.8721\n",
            "Epoch 99/100\n",
            "32/32 [==============================] - 0s 3ms/step - loss: 0.2856 - accuracy: 0.8926 - val_loss: 0.2645 - val_accuracy: 0.8721\n",
            "Epoch 100/100\n",
            "32/32 [==============================] - 0s 3ms/step - loss: 0.2694 - accuracy: 0.9009 - val_loss: 0.2621 - val_accuracy: 0.8676\n"
          ],
          "name": "stdout"
        }
      ]
    },
    {
      "cell_type": "code",
      "metadata": {
        "colab": {
          "base_uri": "https://localhost:8080/"
        },
        "id": "fyUhj3Ft7Hkg",
        "outputId": "c5a84a09-a732-41c0-f7b8-4fcca3e1edf5"
      },
      "source": [
        "\n",
        "model.evaluate(xvalues_test, yvalues_test)"
      ],
      "execution_count": 21,
      "outputs": [
        {
          "output_type": "stream",
          "text": [
            "7/7 [==============================] - 0s 2ms/step - loss: 0.3106 - accuracy: 0.8584\n"
          ],
          "name": "stdout"
        },
        {
          "output_type": "execute_result",
          "data": {
            "text/plain": [
              "[0.31062597036361694, 0.8584474921226501]"
            ]
          },
          "metadata": {
            "tags": []
          },
          "execution_count": 21
        }
      ]
    },
    {
      "cell_type": "code",
      "metadata": {
        "colab": {
          "base_uri": "https://localhost:8080/",
          "height": 295
        },
        "id": "ZrfPHvBp7PCA",
        "outputId": "8395abce-d7ba-4f8e-dc1d-f58568cdd53c"
      },
      "source": [
        "import matplotlib.pyplot as plt\n",
        "plt.plot(hist.history['loss'])\n",
        "plt.plot(hist.history['val_loss'])\n",
        "plt.title('Loss function')\n",
        "plt.ylabel('Loss')\n",
        "plt.xlabel('Epoch')\n",
        "plt.legend(['Train', 'Value'])\n",
        "plt.show()"
      ],
      "execution_count": 22,
      "outputs": [
        {
          "output_type": "display_data",
          "data": {
            "image/png": "[encoded data removed]",
            "text/plain": [
              "<Figure size 432x288 with 1 Axes>"
            ]
          },
          "metadata": {
            "tags": [],
            "needs_background": "light"
          }
        }
      ]
    },
    {
      "cell_type": "code",
      "metadata": {
        "id": "CZJMInypJta0",
        "colab": {
          "base_uri": "https://localhost:8080/",
          "height": 295
        },
        "outputId": "f6179613-b1c1-4827-f37a-3066930c3893"
      },
      "source": [
        "plt.plot(hist.history['accuracy'])\n",
        "plt.plot(hist.history['val_accuracy'])\n",
        "plt.title('Model accuracy')\n",
        "plt.ylabel('Accuracy')\n",
        "plt.xlabel('Epoch')\n",
        "plt.legend(['Train', 'Val'], loc='lower right')\n",
        "plt.show()"
      ],
      "execution_count": 23,
      "outputs": [
        {
          "output_type": "display_data",
          "data": {
            "image/png": "[encoded data removed]",
            "text/plain": [
              "<Figure size 432x288 with 1 Axes>"
            ]
          },
          "metadata": {
            "tags": [],
            "needs_background": "light"
          }
        }
      ]
    },
    {
      "cell_type": "code",
      "metadata": {
        "id": "6hOu6-Avsrum"
      },
      "source": [
        "#overfit model\n",
        "\n",
        "model_2 = Sequential([\n",
        "    Dense(1000, activation='relu', input_shape=(10,)),\n",
        "    Dense(1000, activation='relu'),\n",
        "    Dense(1000, activation='relu'),\n",
        "    Dense(1000, activation='relu'),\n",
        "    Dense(1, activation='sigmoid'),\n",
        "])"
      ],
      "execution_count": 27,
      "outputs": []
    },
    {
      "cell_type": "code",
      "metadata": {
        "colab": {
          "base_uri": "https://localhost:8080/"
        },
        "id": "PF5BjEzNtoft",
        "outputId": "dfe472ce-f804-4cac-f387-043ffd64476a"
      },
      "source": [
        "model_2.compile(optimizer='adam',\n",
        "              loss='binary_crossentropy',\n",
        "              metrics=['accuracy'])\n",
        "hist_2 = model_2.fit(xvalues_train, yvalues_train,\n",
        "          batch_size=32, epochs=100,\n",
        "          validation_data=(xvalues_val, yvalues_val))"
      ],
      "execution_count": 29,
      "outputs": [
        {
          "output_type": "stream",
          "text": [
            "Epoch 1/100\n",
            "32/32 [==============================] - 2s 43ms/step - loss: 0.5221 - accuracy: 0.7455 - val_loss: 0.3464 - val_accuracy: 0.8721\n",
            "Epoch 2/100\n",
            "32/32 [==============================] - 1s 43ms/step - loss: 0.3643 - accuracy: 0.8486 - val_loss: 0.2845 - val_accuracy: 0.8721\n",
            "Epoch 3/100\n",
            "32/32 [==============================] - 1s 38ms/step - loss: 0.3192 - accuracy: 0.8701 - val_loss: 0.2849 - val_accuracy: 0.8676\n",
            "Epoch 4/100\n",
            "32/32 [==============================] - 1s 37ms/step - loss: 0.2823 - accuracy: 0.8817 - val_loss: 0.4206 - val_accuracy: 0.8447\n",
            "Epoch 5/100\n",
            "32/32 [==============================] - 1s 38ms/step - loss: 0.3597 - accuracy: 0.8662 - val_loss: 0.2370 - val_accuracy: 0.9041\n",
            "Epoch 6/100\n",
            "32/32 [==============================] - 1s 39ms/step - loss: 0.2805 - accuracy: 0.8805 - val_loss: 0.2585 - val_accuracy: 0.8767\n",
            "Epoch 7/100\n",
            "32/32 [==============================] - 1s 39ms/step - loss: 0.2739 - accuracy: 0.8826 - val_loss: 0.2498 - val_accuracy: 0.8676\n",
            "Epoch 8/100\n",
            "32/32 [==============================] - 1s 38ms/step - loss: 0.2118 - accuracy: 0.9185 - val_loss: 0.2582 - val_accuracy: 0.8539\n",
            "Epoch 9/100\n",
            "32/32 [==============================] - 1s 38ms/step - loss: 0.2535 - accuracy: 0.8985 - val_loss: 0.2628 - val_accuracy: 0.8676\n",
            "Epoch 10/100\n",
            "32/32 [==============================] - 1s 38ms/step - loss: 0.2178 - accuracy: 0.9076 - val_loss: 0.2551 - val_accuracy: 0.8767\n",
            "Epoch 11/100\n",
            "32/32 [==============================] - 1s 37ms/step - loss: 0.2314 - accuracy: 0.9125 - val_loss: 0.2514 - val_accuracy: 0.8813\n",
            "Epoch 12/100\n",
            "32/32 [==============================] - 1s 38ms/step - loss: 0.2074 - accuracy: 0.9204 - val_loss: 0.2512 - val_accuracy: 0.8858\n",
            "Epoch 13/100\n",
            "32/32 [==============================] - 1s 39ms/step - loss: 0.2169 - accuracy: 0.9180 - val_loss: 0.2385 - val_accuracy: 0.8904\n",
            "Epoch 14/100\n",
            "32/32 [==============================] - 1s 38ms/step - loss: 0.2053 - accuracy: 0.9101 - val_loss: 0.2407 - val_accuracy: 0.8904\n",
            "Epoch 15/100\n",
            "32/32 [==============================] - 1s 38ms/step - loss: 0.1959 - accuracy: 0.9259 - val_loss: 0.2630 - val_accuracy: 0.8721\n",
            "Epoch 16/100\n",
            "32/32 [==============================] - 1s 38ms/step - loss: 0.2216 - accuracy: 0.9067 - val_loss: 0.2434 - val_accuracy: 0.8858\n",
            "Epoch 17/100\n",
            "32/32 [==============================] - 1s 40ms/step - loss: 0.2211 - accuracy: 0.9126 - val_loss: 0.2703 - val_accuracy: 0.8858\n",
            "Epoch 18/100\n",
            "32/32 [==============================] - 1s 37ms/step - loss: 0.2200 - accuracy: 0.9115 - val_loss: 0.2392 - val_accuracy: 0.8904\n",
            "Epoch 19/100\n",
            "32/32 [==============================] - 1s 37ms/step - loss: 0.2035 - accuracy: 0.9220 - val_loss: 0.2589 - val_accuracy: 0.8950\n",
            "Epoch 20/100\n",
            "32/32 [==============================] - 1s 37ms/step - loss: 0.1756 - accuracy: 0.9211 - val_loss: 0.2877 - val_accuracy: 0.8584\n",
            "Epoch 21/100\n",
            "32/32 [==============================] - 1s 37ms/step - loss: 0.1912 - accuracy: 0.9198 - val_loss: 0.2949 - val_accuracy: 0.8721\n",
            "Epoch 22/100\n",
            "32/32 [==============================] - 1s 38ms/step - loss: 0.2122 - accuracy: 0.9139 - val_loss: 0.2595 - val_accuracy: 0.8676\n",
            "Epoch 23/100\n",
            "32/32 [==============================] - 1s 37ms/step - loss: 0.1912 - accuracy: 0.9295 - val_loss: 0.2232 - val_accuracy: 0.8858\n",
            "Epoch 24/100\n",
            "32/32 [==============================] - 1s 39ms/step - loss: 0.2046 - accuracy: 0.9253 - val_loss: 0.3207 - val_accuracy: 0.8767\n",
            "Epoch 25/100\n",
            "32/32 [==============================] - 1s 38ms/step - loss: 0.1992 - accuracy: 0.9225 - val_loss: 0.3104 - val_accuracy: 0.8676\n",
            "Epoch 26/100\n",
            "32/32 [==============================] - 1s 39ms/step - loss: 0.2104 - accuracy: 0.9086 - val_loss: 0.3065 - val_accuracy: 0.8767\n",
            "Epoch 27/100\n",
            "32/32 [==============================] - 1s 39ms/step - loss: 0.2145 - accuracy: 0.9181 - val_loss: 0.2364 - val_accuracy: 0.8767\n",
            "Epoch 28/100\n",
            "32/32 [==============================] - 1s 39ms/step - loss: 0.1721 - accuracy: 0.9265 - val_loss: 0.2831 - val_accuracy: 0.8767\n",
            "Epoch 29/100\n",
            "32/32 [==============================] - 1s 38ms/step - loss: 0.1842 - accuracy: 0.9237 - val_loss: 0.2271 - val_accuracy: 0.9041\n",
            "Epoch 30/100\n",
            "32/32 [==============================] - 1s 38ms/step - loss: 0.1822 - accuracy: 0.9355 - val_loss: 0.2853 - val_accuracy: 0.8767\n",
            "Epoch 31/100\n",
            "32/32 [==============================] - 1s 39ms/step - loss: 0.1746 - accuracy: 0.9340 - val_loss: 0.2904 - val_accuracy: 0.8676\n",
            "Epoch 32/100\n",
            "32/32 [==============================] - 1s 38ms/step - loss: 0.1816 - accuracy: 0.9317 - val_loss: 0.2776 - val_accuracy: 0.8813\n",
            "Epoch 33/100\n",
            "32/32 [==============================] - 1s 40ms/step - loss: 0.1619 - accuracy: 0.9339 - val_loss: 0.3010 - val_accuracy: 0.8767\n",
            "Epoch 34/100\n",
            "32/32 [==============================] - 1s 39ms/step - loss: 0.1573 - accuracy: 0.9299 - val_loss: 0.2815 - val_accuracy: 0.8950\n",
            "Epoch 35/100\n",
            "32/32 [==============================] - 1s 38ms/step - loss: 0.1659 - accuracy: 0.9230 - val_loss: 0.3118 - val_accuracy: 0.8813\n",
            "Epoch 36/100\n",
            "32/32 [==============================] - 1s 38ms/step - loss: 0.1721 - accuracy: 0.9238 - val_loss: 0.2702 - val_accuracy: 0.8950\n",
            "Epoch 37/100\n",
            "32/32 [==============================] - 1s 39ms/step - loss: 0.1582 - accuracy: 0.9420 - val_loss: 0.2692 - val_accuracy: 0.8813\n",
            "Epoch 38/100\n",
            "32/32 [==============================] - 1s 38ms/step - loss: 0.1830 - accuracy: 0.9308 - val_loss: 0.3063 - val_accuracy: 0.8904\n",
            "Epoch 39/100\n",
            "32/32 [==============================] - 1s 41ms/step - loss: 0.1713 - accuracy: 0.9217 - val_loss: 0.3165 - val_accuracy: 0.8858\n",
            "Epoch 40/100\n",
            "32/32 [==============================] - 1s 39ms/step - loss: 0.1490 - accuracy: 0.9440 - val_loss: 0.3125 - val_accuracy: 0.8676\n",
            "Epoch 41/100\n",
            "32/32 [==============================] - 1s 38ms/step - loss: 0.1574 - accuracy: 0.9339 - val_loss: 0.2604 - val_accuracy: 0.8904\n",
            "Epoch 42/100\n",
            "32/32 [==============================] - 1s 38ms/step - loss: 0.1832 - accuracy: 0.9229 - val_loss: 0.2637 - val_accuracy: 0.8813\n",
            "Epoch 43/100\n",
            "32/32 [==============================] - 1s 38ms/step - loss: 0.1555 - accuracy: 0.9411 - val_loss: 0.2981 - val_accuracy: 0.8858\n",
            "Epoch 44/100\n",
            "32/32 [==============================] - 1s 38ms/step - loss: 0.1826 - accuracy: 0.9128 - val_loss: 0.2984 - val_accuracy: 0.9041\n",
            "Epoch 45/100\n",
            "32/32 [==============================] - 1s 38ms/step - loss: 0.1252 - accuracy: 0.9557 - val_loss: 0.2898 - val_accuracy: 0.8950\n",
            "Epoch 46/100\n",
            "32/32 [==============================] - 1s 38ms/step - loss: 0.1452 - accuracy: 0.9462 - val_loss: 0.3788 - val_accuracy: 0.8950\n",
            "Epoch 47/100\n",
            "32/32 [==============================] - 1s 39ms/step - loss: 0.2277 - accuracy: 0.8987 - val_loss: 0.2700 - val_accuracy: 0.8858\n",
            "Epoch 48/100\n",
            "32/32 [==============================] - 1s 39ms/step - loss: 0.1599 - accuracy: 0.9386 - val_loss: 0.2540 - val_accuracy: 0.8904\n",
            "Epoch 49/100\n",
            "32/32 [==============================] - 1s 38ms/step - loss: 0.1614 - accuracy: 0.9372 - val_loss: 0.2889 - val_accuracy: 0.9041\n",
            "Epoch 50/100\n",
            "32/32 [==============================] - 1s 39ms/step - loss: 0.1373 - accuracy: 0.9564 - val_loss: 0.2989 - val_accuracy: 0.8721\n",
            "Epoch 51/100\n",
            "32/32 [==============================] - 1s 38ms/step - loss: 0.1526 - accuracy: 0.9352 - val_loss: 0.2560 - val_accuracy: 0.8904\n",
            "Epoch 52/100\n",
            "32/32 [==============================] - 1s 39ms/step - loss: 0.1704 - accuracy: 0.9330 - val_loss: 0.3251 - val_accuracy: 0.8950\n",
            "Epoch 53/100\n",
            "32/32 [==============================] - 1s 38ms/step - loss: 0.1568 - accuracy: 0.9271 - val_loss: 0.3029 - val_accuracy: 0.8858\n",
            "Epoch 54/100\n",
            "32/32 [==============================] - 1s 39ms/step - loss: 0.1264 - accuracy: 0.9457 - val_loss: 0.3439 - val_accuracy: 0.8813\n",
            "Epoch 55/100\n",
            "32/32 [==============================] - 1s 39ms/step - loss: 0.1419 - accuracy: 0.9348 - val_loss: 0.2893 - val_accuracy: 0.8813\n",
            "Epoch 56/100\n",
            "32/32 [==============================] - 1s 39ms/step - loss: 0.1399 - accuracy: 0.9454 - val_loss: 0.3602 - val_accuracy: 0.8813\n",
            "Epoch 57/100\n",
            "32/32 [==============================] - 1s 39ms/step - loss: 0.1241 - accuracy: 0.9397 - val_loss: 0.4310 - val_accuracy: 0.8767\n",
            "Epoch 58/100\n",
            "32/32 [==============================] - 1s 39ms/step - loss: 0.1576 - accuracy: 0.9353 - val_loss: 0.3624 - val_accuracy: 0.8721\n",
            "Epoch 59/100\n",
            "32/32 [==============================] - 1s 38ms/step - loss: 0.1359 - accuracy: 0.9409 - val_loss: 0.4126 - val_accuracy: 0.8813\n",
            "Epoch 60/100\n",
            "32/32 [==============================] - 1s 39ms/step - loss: 0.1427 - accuracy: 0.9430 - val_loss: 0.4015 - val_accuracy: 0.8995\n",
            "Epoch 61/100\n",
            "32/32 [==============================] - 1s 39ms/step - loss: 0.1376 - accuracy: 0.9361 - val_loss: 0.3339 - val_accuracy: 0.8950\n",
            "Epoch 62/100\n",
            "32/32 [==============================] - 1s 39ms/step - loss: 0.1909 - accuracy: 0.9235 - val_loss: 0.3065 - val_accuracy: 0.8676\n",
            "Epoch 63/100\n",
            "32/32 [==============================] - 1s 39ms/step - loss: 0.1397 - accuracy: 0.9460 - val_loss: 0.3251 - val_accuracy: 0.8813\n",
            "Epoch 64/100\n",
            "32/32 [==============================] - 1s 38ms/step - loss: 0.1596 - accuracy: 0.9278 - val_loss: 0.4715 - val_accuracy: 0.8721\n",
            "Epoch 65/100\n",
            "32/32 [==============================] - 1s 39ms/step - loss: 0.1254 - accuracy: 0.9497 - val_loss: 0.4117 - val_accuracy: 0.8858\n",
            "Epoch 66/100\n",
            "32/32 [==============================] - 1s 38ms/step - loss: 0.1754 - accuracy: 0.9428 - val_loss: 0.2758 - val_accuracy: 0.8767\n",
            "Epoch 67/100\n",
            "32/32 [==============================] - 1s 38ms/step - loss: 0.1327 - accuracy: 0.9501 - val_loss: 0.3014 - val_accuracy: 0.8858\n",
            "Epoch 68/100\n",
            "32/32 [==============================] - 1s 38ms/step - loss: 0.1607 - accuracy: 0.9426 - val_loss: 0.2751 - val_accuracy: 0.8950\n",
            "Epoch 69/100\n",
            "32/32 [==============================] - 1s 39ms/step - loss: 0.1734 - accuracy: 0.9316 - val_loss: 0.3344 - val_accuracy: 0.8767\n",
            "Epoch 70/100\n",
            "32/32 [==============================] - 1s 39ms/step - loss: 0.1867 - accuracy: 0.9263 - val_loss: 0.3754 - val_accuracy: 0.8767\n",
            "Epoch 71/100\n",
            "32/32 [==============================] - 1s 38ms/step - loss: 0.1522 - accuracy: 0.9351 - val_loss: 0.3824 - val_accuracy: 0.8904\n",
            "Epoch 72/100\n",
            "32/32 [==============================] - 1s 38ms/step - loss: 0.1554 - accuracy: 0.9276 - val_loss: 0.3585 - val_accuracy: 0.8904\n",
            "Epoch 73/100\n",
            "32/32 [==============================] - 1s 42ms/step - loss: 0.1435 - accuracy: 0.9456 - val_loss: 0.3540 - val_accuracy: 0.8721\n",
            "Epoch 74/100\n",
            "32/32 [==============================] - 1s 40ms/step - loss: 0.1222 - accuracy: 0.9530 - val_loss: 0.3752 - val_accuracy: 0.8995\n",
            "Epoch 75/100\n",
            "32/32 [==============================] - 1s 39ms/step - loss: 0.1265 - accuracy: 0.9568 - val_loss: 0.4176 - val_accuracy: 0.8813\n",
            "Epoch 76/100\n",
            "32/32 [==============================] - 1s 39ms/step - loss: 0.1299 - accuracy: 0.9485 - val_loss: 0.3824 - val_accuracy: 0.8767\n",
            "Epoch 77/100\n",
            "32/32 [==============================] - 1s 39ms/step - loss: 0.1063 - accuracy: 0.9538 - val_loss: 0.3564 - val_accuracy: 0.9087\n",
            "Epoch 78/100\n",
            "32/32 [==============================] - 1s 38ms/step - loss: 0.1119 - accuracy: 0.9578 - val_loss: 0.4508 - val_accuracy: 0.8904\n",
            "Epoch 79/100\n",
            "32/32 [==============================] - 1s 38ms/step - loss: 0.1285 - accuracy: 0.9472 - val_loss: 0.3966 - val_accuracy: 0.8813\n",
            "Epoch 80/100\n",
            "32/32 [==============================] - 1s 38ms/step - loss: 0.1072 - accuracy: 0.9597 - val_loss: 0.4680 - val_accuracy: 0.8813\n",
            "Epoch 81/100\n",
            "32/32 [==============================] - 1s 39ms/step - loss: 0.1082 - accuracy: 0.9579 - val_loss: 0.5390 - val_accuracy: 0.8858\n",
            "Epoch 82/100\n",
            "32/32 [==============================] - 1s 38ms/step - loss: 0.2129 - accuracy: 0.9148 - val_loss: 0.3731 - val_accuracy: 0.8950\n",
            "Epoch 83/100\n",
            "32/32 [==============================] - 1s 39ms/step - loss: 0.1592 - accuracy: 0.9340 - val_loss: 0.4582 - val_accuracy: 0.8767\n",
            "Epoch 84/100\n",
            "32/32 [==============================] - 1s 38ms/step - loss: 0.1140 - accuracy: 0.9546 - val_loss: 0.4499 - val_accuracy: 0.8858\n",
            "Epoch 85/100\n",
            "32/32 [==============================] - 1s 38ms/step - loss: 0.1485 - accuracy: 0.9261 - val_loss: 0.3620 - val_accuracy: 0.8813\n",
            "Epoch 86/100\n",
            "32/32 [==============================] - 1s 38ms/step - loss: 0.1485 - accuracy: 0.9473 - val_loss: 0.5401 - val_accuracy: 0.8904\n",
            "Epoch 87/100\n",
            "32/32 [==============================] - 1s 38ms/step - loss: 0.0994 - accuracy: 0.9587 - val_loss: 0.4903 - val_accuracy: 0.8584\n",
            "Epoch 88/100\n",
            "32/32 [==============================] - 1s 39ms/step - loss: 0.0923 - accuracy: 0.9678 - val_loss: 0.4009 - val_accuracy: 0.8858\n",
            "Epoch 89/100\n",
            "32/32 [==============================] - 1s 38ms/step - loss: 0.1492 - accuracy: 0.9336 - val_loss: 0.3272 - val_accuracy: 0.8767\n",
            "Epoch 90/100\n",
            "32/32 [==============================] - 1s 39ms/step - loss: 0.1505 - accuracy: 0.9383 - val_loss: 0.4436 - val_accuracy: 0.8721\n",
            "Epoch 91/100\n",
            "32/32 [==============================] - 1s 39ms/step - loss: 0.1465 - accuracy: 0.9483 - val_loss: 0.4433 - val_accuracy: 0.8767\n",
            "Epoch 92/100\n",
            "32/32 [==============================] - 1s 38ms/step - loss: 0.1106 - accuracy: 0.9520 - val_loss: 0.4798 - val_accuracy: 0.8858\n",
            "Epoch 93/100\n",
            "32/32 [==============================] - 1s 38ms/step - loss: 0.0880 - accuracy: 0.9683 - val_loss: 0.4953 - val_accuracy: 0.8904\n",
            "Epoch 94/100\n",
            "32/32 [==============================] - 1s 37ms/step - loss: 0.0922 - accuracy: 0.9591 - val_loss: 0.5215 - val_accuracy: 0.8950\n",
            "Epoch 95/100\n",
            "32/32 [==============================] - 1s 38ms/step - loss: 0.0884 - accuracy: 0.9610 - val_loss: 0.6083 - val_accuracy: 0.8676\n",
            "Epoch 96/100\n",
            "32/32 [==============================] - 1s 38ms/step - loss: 0.1187 - accuracy: 0.9442 - val_loss: 0.3682 - val_accuracy: 0.8630\n",
            "Epoch 97/100\n",
            "32/32 [==============================] - 1s 39ms/step - loss: 0.1113 - accuracy: 0.9617 - val_loss: 0.4961 - val_accuracy: 0.8539\n",
            "Epoch 98/100\n",
            "32/32 [==============================] - 1s 38ms/step - loss: 0.0862 - accuracy: 0.9620 - val_loss: 0.5801 - val_accuracy: 0.8630\n",
            "Epoch 99/100\n",
            "32/32 [==============================] - 1s 38ms/step - loss: 0.1059 - accuracy: 0.9575 - val_loss: 0.6497 - val_accuracy: 0.8721\n",
            "Epoch 100/100\n",
            "32/32 [==============================] - 1s 39ms/step - loss: 0.0993 - accuracy: 0.9536 - val_loss: 0.5383 - val_accuracy: 0.8904\n"
          ],
          "name": "stdout"
        }
      ]
    },
    {
      "cell_type": "code",
      "metadata": {
        "colab": {
          "base_uri": "https://localhost:8080/",
          "height": 295
        },
        "id": "7s26bEPwuT2N",
        "outputId": "7590c26c-dff4-4e62-a44c-549ad729488d"
      },
      "source": [
        "plt.plot(hist_2.history['loss'])\n",
        "plt.plot(hist_2.history['val_loss'])\n",
        "plt.title('Model loss')\n",
        "plt.ylabel('Loss')\n",
        "plt.xlabel('Epoch')\n",
        "plt.legend(['Train', 'Val'], loc='upper right')\n",
        "plt.show()"
      ],
      "execution_count": 30,
      "outputs": [
        {
          "output_type": "display_data",
          "data": {
            "image/png": "[encoded data removed]",
            "text/plain": [
              "<Figure size 432x288 with 1 Axes>"
            ]
          },
          "metadata": {
            "tags": [],
            "needs_background": "light"
          }
        }
      ]
    },
    {
      "cell_type": "code",
      "metadata": {
        "colab": {
          "base_uri": "https://localhost:8080/",
          "height": 295
        },
        "id": "y4I41Z6ouWEs",
        "outputId": "d4ef9a2e-c859-4cab-d034-078789ced7a5"
      },
      "source": [
        "plt.plot(hist_2.history['accuracy'])\n",
        "plt.plot(hist_2.history['val_accuracy'])\n",
        "plt.title('Model accuracy')\n",
        "plt.ylabel('Accuracy')\n",
        "plt.xlabel('Epoch')\n",
        "plt.legend(['Train', 'Val'], loc='lower right')\n",
        "plt.show()"
      ],
      "execution_count": 33,
      "outputs": [
        {
          "output_type": "display_data",
          "data": {
            "image/png": "[encoded data removed]",
            "text/plain": [
              "<Figure size 432x288 with 1 Axes>"
            ]
          },
          "metadata": {
            "tags": [],
            "needs_background": "light"
          }
        }
      ]
    },
    {
      "cell_type": "code",
      "metadata": {
        "id": "l0zTpoDPuhkJ"
      },
      "source": [
        "#Try to reduce overfitting \n",
        "\n",
        "from keras.layers import Dropout\n",
        "from keras import regularizers\n",
        "\n",
        "model_3 = Sequential([\n",
        "    Dense(1000, activation='relu', kernel_regularizer=regularizers.l2(0.01), input_shape=(10,)),\n",
        "    Dropout(0.3),\n",
        "    Dense(1000, activation='relu', kernel_regularizer=regularizers.l2(0.01)),\n",
        "    Dropout(0.3),\n",
        "    Dense(1000, activation='relu', kernel_regularizer=regularizers.l2(0.01)),\n",
        "    Dropout(0.3),\n",
        "    Dense(1000, activation='relu', kernel_regularizer=regularizers.l2(0.01)),\n",
        "    Dropout(0.3),\n",
        "    Dense(1, activation='sigmoid', kernel_regularizer=regularizers.l2(0.01)),\n",
        "])"
      ],
      "execution_count": 34,
      "outputs": []
    },
    {
      "cell_type": "code",
      "metadata": {
        "colab": {
          "base_uri": "https://localhost:8080/"
        },
        "id": "jYCgiuWTvEy3",
        "outputId": "fdd7ef72-89d8-4e92-bcc1-37885f612a3b"
      },
      "source": [
        "model_3.compile(optimizer='adam',\n",
        "              loss='binary_crossentropy',\n",
        "              metrics=['accuracy'])\n",
        "hist_3 = model_3.fit(xvalues_train, yvalues_train,\n",
        "          batch_size=32, epochs=100,\n",
        "          validation_data=(xvalues_val, yvalues_val))"
      ],
      "execution_count": 36,
      "outputs": [
        {
          "output_type": "stream",
          "text": [
            "Epoch 1/100\n",
            "32/32 [==============================] - 3s 58ms/step - loss: 21.1096 - accuracy: 0.5448 - val_loss: 3.8900 - val_accuracy: 0.8858\n",
            "Epoch 2/100\n",
            "32/32 [==============================] - 1s 47ms/step - loss: 2.4824 - accuracy: 0.8509 - val_loss: 0.6578 - val_accuracy: 0.8493\n",
            "Epoch 3/100\n",
            "32/32 [==============================] - 2s 49ms/step - loss: 0.6124 - accuracy: 0.8648 - val_loss: 0.5215 - val_accuracy: 0.8721\n",
            "Epoch 4/100\n",
            "32/32 [==============================] - 2s 50ms/step - loss: 0.5140 - accuracy: 0.8720 - val_loss: 0.5225 - val_accuracy: 0.8630\n",
            "Epoch 5/100\n",
            "32/32 [==============================] - 2s 49ms/step - loss: 0.5339 - accuracy: 0.8408 - val_loss: 0.5348 - val_accuracy: 0.8493\n",
            "Epoch 6/100\n",
            "32/32 [==============================] - 2s 49ms/step - loss: 0.5192 - accuracy: 0.8441 - val_loss: 0.4591 - val_accuracy: 0.8813\n",
            "Epoch 7/100\n",
            "32/32 [==============================] - 2s 48ms/step - loss: 0.4689 - accuracy: 0.8867 - val_loss: 0.4548 - val_accuracy: 0.8539\n",
            "Epoch 8/100\n",
            "32/32 [==============================] - 2s 67ms/step - loss: 0.4710 - accuracy: 0.8881 - val_loss: 0.4337 - val_accuracy: 0.8767\n",
            "Epoch 9/100\n",
            "32/32 [==============================] - 3s 91ms/step - loss: 0.4934 - accuracy: 0.8748 - val_loss: 0.5051 - val_accuracy: 0.8539\n",
            "Epoch 10/100\n",
            "32/32 [==============================] - 3s 89ms/step - loss: 0.5031 - accuracy: 0.8585 - val_loss: 0.4348 - val_accuracy: 0.8630\n",
            "Epoch 11/100\n",
            "32/32 [==============================] - 3s 90ms/step - loss: 0.4433 - accuracy: 0.8947 - val_loss: 0.4619 - val_accuracy: 0.8721\n",
            "Epoch 12/100\n",
            "32/32 [==============================] - 3s 92ms/step - loss: 0.4717 - accuracy: 0.8644 - val_loss: 0.4442 - val_accuracy: 0.8904\n",
            "Epoch 13/100\n",
            "32/32 [==============================] - 2s 63ms/step - loss: 0.4677 - accuracy: 0.8775 - val_loss: 0.4631 - val_accuracy: 0.8767\n",
            "Epoch 14/100\n",
            "32/32 [==============================] - 2s 48ms/step - loss: 0.4524 - accuracy: 0.8894 - val_loss: 0.4561 - val_accuracy: 0.8767\n",
            "Epoch 15/100\n",
            "32/32 [==============================] - 2s 49ms/step - loss: 0.5162 - accuracy: 0.8518 - val_loss: 0.4304 - val_accuracy: 0.8858\n",
            "Epoch 16/100\n",
            "32/32 [==============================] - 2s 50ms/step - loss: 0.4806 - accuracy: 0.8820 - val_loss: 0.4364 - val_accuracy: 0.8813\n",
            "Epoch 17/100\n",
            "32/32 [==============================] - 2s 49ms/step - loss: 0.4877 - accuracy: 0.8725 - val_loss: 0.4149 - val_accuracy: 0.8721\n",
            "Epoch 18/100\n",
            "32/32 [==============================] - 2s 49ms/step - loss: 0.4259 - accuracy: 0.8996 - val_loss: 0.4164 - val_accuracy: 0.8539\n",
            "Epoch 19/100\n",
            "32/32 [==============================] - 2s 48ms/step - loss: 0.4188 - accuracy: 0.8963 - val_loss: 0.4164 - val_accuracy: 0.8904\n",
            "Epoch 20/100\n",
            "32/32 [==============================] - 2s 47ms/step - loss: 0.4549 - accuracy: 0.8825 - val_loss: 0.4208 - val_accuracy: 0.8858\n",
            "Epoch 21/100\n",
            "32/32 [==============================] - 2s 47ms/step - loss: 0.4340 - accuracy: 0.8919 - val_loss: 0.4125 - val_accuracy: 0.8539\n",
            "Epoch 22/100\n",
            "32/32 [==============================] - 2s 47ms/step - loss: 0.4275 - accuracy: 0.8974 - val_loss: 0.4114 - val_accuracy: 0.8904\n",
            "Epoch 23/100\n",
            "32/32 [==============================] - 2s 49ms/step - loss: 0.4493 - accuracy: 0.8763 - val_loss: 0.4283 - val_accuracy: 0.8630\n",
            "Epoch 24/100\n",
            "32/32 [==============================] - 2s 50ms/step - loss: 0.4259 - accuracy: 0.8951 - val_loss: 0.4575 - val_accuracy: 0.8767\n",
            "Epoch 25/100\n",
            "32/32 [==============================] - 2s 52ms/step - loss: 0.4591 - accuracy: 0.8693 - val_loss: 0.4504 - val_accuracy: 0.8721\n",
            "Epoch 26/100\n",
            "32/32 [==============================] - 2s 51ms/step - loss: 0.4574 - accuracy: 0.8778 - val_loss: 0.4149 - val_accuracy: 0.8630\n",
            "Epoch 27/100\n",
            "32/32 [==============================] - 2s 49ms/step - loss: 0.4093 - accuracy: 0.8894 - val_loss: 0.4130 - val_accuracy: 0.8630\n",
            "Epoch 28/100\n",
            "32/32 [==============================] - 2s 47ms/step - loss: 0.4436 - accuracy: 0.8781 - val_loss: 0.4402 - val_accuracy: 0.8721\n",
            "Epoch 29/100\n",
            "32/32 [==============================] - 2s 48ms/step - loss: 0.4706 - accuracy: 0.8691 - val_loss: 0.4063 - val_accuracy: 0.8950\n",
            "Epoch 30/100\n",
            "32/32 [==============================] - 2s 47ms/step - loss: 0.4626 - accuracy: 0.8763 - val_loss: 0.4137 - val_accuracy: 0.8539\n",
            "Epoch 31/100\n",
            "32/32 [==============================] - 2s 47ms/step - loss: 0.4328 - accuracy: 0.8926 - val_loss: 0.4402 - val_accuracy: 0.8721\n",
            "Epoch 32/100\n",
            "32/32 [==============================] - 2s 49ms/step - loss: 0.4526 - accuracy: 0.8742 - val_loss: 0.4170 - val_accuracy: 0.8721\n",
            "Epoch 33/100\n",
            "32/32 [==============================] - 2s 48ms/step - loss: 0.4296 - accuracy: 0.9034 - val_loss: 0.4387 - val_accuracy: 0.8721\n",
            "Epoch 34/100\n",
            "32/32 [==============================] - 2s 48ms/step - loss: 0.4485 - accuracy: 0.8811 - val_loss: 0.4094 - val_accuracy: 0.8493\n",
            "Epoch 35/100\n",
            "32/32 [==============================] - 2s 49ms/step - loss: 0.4102 - accuracy: 0.9015 - val_loss: 0.4112 - val_accuracy: 0.8904\n",
            "Epoch 36/100\n",
            "32/32 [==============================] - 2s 47ms/step - loss: 0.4488 - accuracy: 0.8730 - val_loss: 0.4867 - val_accuracy: 0.8676\n",
            "Epoch 37/100\n",
            "32/32 [==============================] - 2s 51ms/step - loss: 0.4648 - accuracy: 0.8878 - val_loss: 0.4195 - val_accuracy: 0.8813\n",
            "Epoch 38/100\n",
            "32/32 [==============================] - 2s 48ms/step - loss: 0.4446 - accuracy: 0.8770 - val_loss: 0.4018 - val_accuracy: 0.8950\n",
            "Epoch 39/100\n",
            "32/32 [==============================] - 2s 49ms/step - loss: 0.4110 - accuracy: 0.8928 - val_loss: 0.4065 - val_accuracy: 0.8630\n",
            "Epoch 40/100\n",
            "32/32 [==============================] - 2s 47ms/step - loss: 0.4292 - accuracy: 0.8843 - val_loss: 0.4441 - val_accuracy: 0.8767\n",
            "Epoch 41/100\n",
            "32/32 [==============================] - 1s 46ms/step - loss: 0.4262 - accuracy: 0.9006 - val_loss: 0.4150 - val_accuracy: 0.8813\n",
            "Epoch 42/100\n",
            "32/32 [==============================] - 2s 47ms/step - loss: 0.4269 - accuracy: 0.8755 - val_loss: 0.4106 - val_accuracy: 0.8950\n",
            "Epoch 43/100\n",
            "32/32 [==============================] - 2s 48ms/step - loss: 0.4407 - accuracy: 0.8957 - val_loss: 0.4177 - val_accuracy: 0.8813\n",
            "Epoch 44/100\n",
            "32/32 [==============================] - 2s 48ms/step - loss: 0.4648 - accuracy: 0.8699 - val_loss: 0.4076 - val_accuracy: 0.8767\n",
            "Epoch 45/100\n",
            "32/32 [==============================] - 2s 48ms/step - loss: 0.4511 - accuracy: 0.8844 - val_loss: 0.4052 - val_accuracy: 0.8813\n",
            "Epoch 46/100\n",
            "32/32 [==============================] - 2s 48ms/step - loss: 0.4283 - accuracy: 0.8900 - val_loss: 0.4343 - val_accuracy: 0.8721\n",
            "Epoch 47/100\n",
            "32/32 [==============================] - 2s 48ms/step - loss: 0.4407 - accuracy: 0.8783 - val_loss: 0.4015 - val_accuracy: 0.8904\n",
            "Epoch 48/100\n",
            "32/32 [==============================] - 2s 47ms/step - loss: 0.4523 - accuracy: 0.8866 - val_loss: 0.4021 - val_accuracy: 0.8813\n",
            "Epoch 49/100\n",
            "32/32 [==============================] - 2s 48ms/step - loss: 0.4320 - accuracy: 0.8864 - val_loss: 0.4149 - val_accuracy: 0.8721\n",
            "Epoch 50/100\n",
            "32/32 [==============================] - 2s 47ms/step - loss: 0.4240 - accuracy: 0.8882 - val_loss: 0.4014 - val_accuracy: 0.8904\n",
            "Epoch 51/100\n",
            "32/32 [==============================] - 2s 47ms/step - loss: 0.4307 - accuracy: 0.8811 - val_loss: 0.4391 - val_accuracy: 0.8767\n",
            "Epoch 52/100\n",
            "32/32 [==============================] - 2s 48ms/step - loss: 0.4594 - accuracy: 0.8771 - val_loss: 0.4093 - val_accuracy: 0.8630\n",
            "Epoch 53/100\n",
            "32/32 [==============================] - 2s 47ms/step - loss: 0.4640 - accuracy: 0.8770 - val_loss: 0.4068 - val_accuracy: 0.8904\n",
            "Epoch 54/100\n",
            "32/32 [==============================] - 2s 48ms/step - loss: 0.4185 - accuracy: 0.8962 - val_loss: 0.4056 - val_accuracy: 0.8630\n",
            "Epoch 55/100\n",
            "32/32 [==============================] - 2s 48ms/step - loss: 0.4151 - accuracy: 0.9006 - val_loss: 0.4031 - val_accuracy: 0.8904\n",
            "Epoch 56/100\n",
            "32/32 [==============================] - 2s 49ms/step - loss: 0.4394 - accuracy: 0.8751 - val_loss: 0.4097 - val_accuracy: 0.8858\n",
            "Epoch 57/100\n",
            "32/32 [==============================] - 2s 48ms/step - loss: 0.4184 - accuracy: 0.9010 - val_loss: 0.4298 - val_accuracy: 0.8721\n",
            "Epoch 58/100\n",
            "32/32 [==============================] - 2s 49ms/step - loss: 0.4341 - accuracy: 0.8850 - val_loss: 0.4475 - val_accuracy: 0.8767\n",
            "Epoch 59/100\n",
            "32/32 [==============================] - 2s 48ms/step - loss: 0.4399 - accuracy: 0.8856 - val_loss: 0.4263 - val_accuracy: 0.8767\n",
            "Epoch 60/100\n",
            "32/32 [==============================] - 2s 49ms/step - loss: 0.4591 - accuracy: 0.8887 - val_loss: 0.4394 - val_accuracy: 0.8767\n",
            "Epoch 61/100\n",
            "32/32 [==============================] - 2s 47ms/step - loss: 0.4281 - accuracy: 0.9018 - val_loss: 0.4226 - val_accuracy: 0.8767\n",
            "Epoch 62/100\n",
            "32/32 [==============================] - 2s 49ms/step - loss: 0.5050 - accuracy: 0.8481 - val_loss: 0.4457 - val_accuracy: 0.8767\n",
            "Epoch 63/100\n",
            "32/32 [==============================] - 2s 49ms/step - loss: 0.4809 - accuracy: 0.8735 - val_loss: 0.4050 - val_accuracy: 0.8813\n",
            "Epoch 64/100\n",
            "32/32 [==============================] - 2s 49ms/step - loss: 0.4303 - accuracy: 0.8849 - val_loss: 0.4305 - val_accuracy: 0.8767\n",
            "Epoch 65/100\n",
            "32/32 [==============================] - 2s 73ms/step - loss: 0.4132 - accuracy: 0.8901 - val_loss: 0.4283 - val_accuracy: 0.8767\n",
            "Epoch 66/100\n",
            "32/32 [==============================] - 2s 54ms/step - loss: 0.4563 - accuracy: 0.8778 - val_loss: 0.4099 - val_accuracy: 0.8904\n",
            "Epoch 67/100\n",
            "32/32 [==============================] - 2s 51ms/step - loss: 0.4615 - accuracy: 0.8791 - val_loss: 0.4018 - val_accuracy: 0.8767\n",
            "Epoch 68/100\n",
            "32/32 [==============================] - 2s 51ms/step - loss: 0.4303 - accuracy: 0.8905 - val_loss: 0.4151 - val_accuracy: 0.8721\n",
            "Epoch 69/100\n",
            "32/32 [==============================] - 2s 51ms/step - loss: 0.4238 - accuracy: 0.8865 - val_loss: 0.4029 - val_accuracy: 0.8950\n",
            "Epoch 70/100\n",
            "32/32 [==============================] - 2s 48ms/step - loss: 0.4348 - accuracy: 0.8890 - val_loss: 0.4234 - val_accuracy: 0.8813\n",
            "Epoch 71/100\n",
            "32/32 [==============================] - 2s 50ms/step - loss: 0.4421 - accuracy: 0.8917 - val_loss: 0.4076 - val_accuracy: 0.8630\n",
            "Epoch 72/100\n",
            "32/32 [==============================] - 2s 48ms/step - loss: 0.4084 - accuracy: 0.8959 - val_loss: 0.4605 - val_accuracy: 0.8630\n",
            "Epoch 73/100\n",
            "32/32 [==============================] - 2s 49ms/step - loss: 0.4237 - accuracy: 0.8877 - val_loss: 0.4269 - val_accuracy: 0.8721\n",
            "Epoch 74/100\n",
            "32/32 [==============================] - 2s 47ms/step - loss: 0.4432 - accuracy: 0.8888 - val_loss: 0.4125 - val_accuracy: 0.8767\n",
            "Epoch 75/100\n",
            "32/32 [==============================] - 2s 52ms/step - loss: 0.4677 - accuracy: 0.8720 - val_loss: 0.4453 - val_accuracy: 0.8767\n",
            "Epoch 76/100\n",
            "32/32 [==============================] - 2s 49ms/step - loss: 0.4263 - accuracy: 0.8924 - val_loss: 0.4065 - val_accuracy: 0.8767\n",
            "Epoch 77/100\n",
            "32/32 [==============================] - 2s 50ms/step - loss: 0.4208 - accuracy: 0.8950 - val_loss: 0.4022 - val_accuracy: 0.8904\n",
            "Epoch 78/100\n",
            "32/32 [==============================] - 2s 49ms/step - loss: 0.4198 - accuracy: 0.8892 - val_loss: 0.4176 - val_accuracy: 0.8630\n",
            "Epoch 79/100\n",
            "32/32 [==============================] - 1s 47ms/step - loss: 0.4438 - accuracy: 0.8766 - val_loss: 0.4027 - val_accuracy: 0.8904\n",
            "Epoch 80/100\n",
            "32/32 [==============================] - 2s 50ms/step - loss: 0.4266 - accuracy: 0.8849 - val_loss: 0.4360 - val_accuracy: 0.8721\n",
            "Epoch 81/100\n",
            "32/32 [==============================] - 2s 48ms/step - loss: 0.4379 - accuracy: 0.8814 - val_loss: 0.4120 - val_accuracy: 0.8584\n",
            "Epoch 82/100\n",
            "32/32 [==============================] - 2s 49ms/step - loss: 0.4372 - accuracy: 0.8819 - val_loss: 0.4094 - val_accuracy: 0.8813\n",
            "Epoch 83/100\n",
            "32/32 [==============================] - 2s 48ms/step - loss: 0.4136 - accuracy: 0.8949 - val_loss: 0.4398 - val_accuracy: 0.8767\n",
            "Epoch 84/100\n",
            "32/32 [==============================] - 2s 49ms/step - loss: 0.4218 - accuracy: 0.9040 - val_loss: 0.4063 - val_accuracy: 0.8584\n",
            "Epoch 85/100\n",
            "32/32 [==============================] - 2s 48ms/step - loss: 0.4179 - accuracy: 0.9110 - val_loss: 0.4062 - val_accuracy: 0.8721\n",
            "Epoch 86/100\n",
            "32/32 [==============================] - 2s 48ms/step - loss: 0.4318 - accuracy: 0.8746 - val_loss: 0.4036 - val_accuracy: 0.8721\n",
            "Epoch 87/100\n",
            "32/32 [==============================] - 2s 48ms/step - loss: 0.4246 - accuracy: 0.9034 - val_loss: 0.4122 - val_accuracy: 0.8813\n",
            "Epoch 88/100\n",
            "32/32 [==============================] - 2s 52ms/step - loss: 0.4557 - accuracy: 0.8634 - val_loss: 0.4195 - val_accuracy: 0.8813\n",
            "Epoch 89/100\n",
            "32/32 [==============================] - 2s 48ms/step - loss: 0.4615 - accuracy: 0.8665 - val_loss: 0.4615 - val_accuracy: 0.8676\n",
            "Epoch 90/100\n",
            "32/32 [==============================] - 2s 49ms/step - loss: 0.4585 - accuracy: 0.8777 - val_loss: 0.4050 - val_accuracy: 0.8858\n",
            "Epoch 91/100\n",
            "32/32 [==============================] - 1s 47ms/step - loss: 0.4395 - accuracy: 0.8940 - val_loss: 0.4295 - val_accuracy: 0.8721\n",
            "Epoch 92/100\n",
            "32/32 [==============================] - 2s 48ms/step - loss: 0.4448 - accuracy: 0.8810 - val_loss: 0.4045 - val_accuracy: 0.8904\n",
            "Epoch 93/100\n",
            "32/32 [==============================] - 2s 48ms/step - loss: 0.4281 - accuracy: 0.8923 - val_loss: 0.4058 - val_accuracy: 0.8584\n",
            "Epoch 94/100\n",
            "32/32 [==============================] - 2s 49ms/step - loss: 0.4392 - accuracy: 0.8929 - val_loss: 0.4085 - val_accuracy: 0.8813\n",
            "Epoch 95/100\n",
            "32/32 [==============================] - 2s 50ms/step - loss: 0.4624 - accuracy: 0.8736 - val_loss: 0.4039 - val_accuracy: 0.8858\n",
            "Epoch 96/100\n",
            "32/32 [==============================] - 2s 49ms/step - loss: 0.4186 - accuracy: 0.9013 - val_loss: 0.4198 - val_accuracy: 0.8813\n",
            "Epoch 97/100\n",
            "32/32 [==============================] - 2s 49ms/step - loss: 0.4431 - accuracy: 0.8867 - val_loss: 0.4112 - val_accuracy: 0.8630\n",
            "Epoch 98/100\n",
            "32/32 [==============================] - 1s 46ms/step - loss: 0.4507 - accuracy: 0.8794 - val_loss: 0.3998 - val_accuracy: 0.8904\n",
            "Epoch 99/100\n",
            "32/32 [==============================] - 1s 47ms/step - loss: 0.4175 - accuracy: 0.8919 - val_loss: 0.4025 - val_accuracy: 0.8904\n",
            "Epoch 100/100\n",
            "32/32 [==============================] - 2s 50ms/step - loss: 0.4386 - accuracy: 0.8914 - val_loss: 0.4102 - val_accuracy: 0.8676\n"
          ],
          "name": "stdout"
        }
      ]
    },
    {
      "cell_type": "code",
      "metadata": {
        "colab": {
          "base_uri": "https://localhost:8080/",
          "height": 573
        },
        "id": "N4KyEeymvx33",
        "outputId": "3e7b9e2e-96e7-4c1b-f272-92600faca09e"
      },
      "source": [
        "plt.plot(hist_3.history['loss'])\n",
        "plt.plot(hist_3.history['val_loss'])\n",
        "plt.title('Model loss')\n",
        "plt.ylabel('Loss')\n",
        "plt.xlabel('Epoch')\n",
        "plt.legend(['Train', 'Val'], loc='upper right')\n",
        "plt.ylim(top=1.2, bottom=0)\n",
        "plt.show()\n",
        "\n",
        "plt.plot(hist_3.history['accuracy'])\n",
        "plt.plot(hist_3.history['val_accuracy'])\n",
        "plt.title('Model accuracy')\n",
        "plt.ylabel('Accuracy')\n",
        "plt.xlabel('Epoch')\n",
        "plt.legend(['Train', 'Val'], loc='lower right')\n",
        "plt.show()"
      ],
      "execution_count": 38,
      "outputs": [
        {
          "output_type": "display_data",
          "data": {
            "image/png": "[encoded data removed]",
            "text/plain": [
              "<Figure size 432x288 with 1 Axes>"
            ]
          },
          "metadata": {
            "tags": [],
            "needs_background": "light"
          }
        },
        {
          "output_type": "display_data",
          "data": {
            "image/png": "[encoded data removed]",
            "text/plain": [
              "<Figure size 432x288 with 1 Axes>"
            ]
          },
          "metadata": {
            "tags": [],
            "needs_background": "light"
          }
        }
      ]
    }
  ]
}